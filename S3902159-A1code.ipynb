{
 "cells": [
  {
   "cell_type": "markdown",
   "metadata": {
    "editable": true,
    "id": "u-EEv9utoT69",
    "slideshow": {
     "slide_type": ""
    },
    "tags": []
   },
   "source": [
    "# Task 1: Data Preparation\n"
   ]
  },
  {
   "cell_type": "code",
   "execution_count": 1,
   "metadata": {
    "id": "RU9Pm6LKfToO"
   },
   "outputs": [],
   "source": [
    "import pandas as pd\n",
    "import numpy as np\n",
    "import matplotlib.pyplot as plt\n",
    "import seaborn as sns\n",
    "from IPython.core.interactiveshell import InteractiveShell\n",
    "\n",
    "InteractiveShell.ast_node_interactivity = \"all\"\n",
    "pd.set_option('future.no_silent_downcasting', True)"
   ]
  },
  {
   "cell_type": "code",
   "execution_count": 2,
   "metadata": {},
   "outputs": [],
   "source": [
    "# csv to dataframe \n",
    "df = pd.read_csv(\"A1data.csv\")"
   ]
  },
  {
   "cell_type": "code",
   "execution_count": 3,
   "metadata": {},
   "outputs": [
    {
     "name": "stdout",
     "output_type": "stream",
     "text": [
      "<class 'pandas.core.frame.DataFrame'>\n",
      "RangeIndex: 90 entries, 0 to 89\n",
      "Data columns (total 11 columns):\n",
      " #   Column                     Non-Null Count  Dtype \n",
      "---  ------                     --------------  ----- \n",
      " 0   ISO3                       90 non-null     object\n",
      " 1   Countries and areas        90 non-null     object\n",
      " 2   Region                     90 non-null     object\n",
      " 3   Sub-region                 90 non-null     object\n",
      " 4   Income Group               90 non-null     object\n",
      " 5   Total                      90 non-null     object\n",
      " 6   Residence (Rural)          85 non-null     object\n",
      " 7   Residence (Urban)          86 non-null     object\n",
      " 8   Wealth quintile (Poorest)  83 non-null     object\n",
      " 9   Wealth quintile (Richest)  83 non-null     object\n",
      " 10  Time period                90 non-null     object\n",
      "dtypes: object(11)\n",
      "memory usage: 7.9+ KB\n"
     ]
    }
   ],
   "source": [
    "# get data types\n",
    "df.info()"
   ]
  },
  {
   "cell_type": "code",
   "execution_count": 4,
   "metadata": {
    "scrolled": true
   },
   "outputs": [
    {
     "name": "stdout",
     "output_type": "stream",
     "text": [
      "   ISO3 Countries and areas Region Sub-region              Income Group Total  \\\n",
      "30  GTM           Guatemala    LAC        LAC  Upper middle income (UM)   10%   \n",
      "75  TGO                Togo    SSA        WCA            Low income (L)   24%   \n",
      "76  TGO                Togo    SSA        WCA            Low income (L)   24%   \n",
      "\n",
      "   Residence (Rural) Residence (Urban) Wealth quintile (Poorest)  \\\n",
      "30                3%               20%                        0%   \n",
      "75                8%               49%                        0%   \n",
      "76                8%               49%                        0%   \n",
      "\n",
      "   Wealth quintile (Richest) Time period  \n",
      "30                       49%   2014-2015  \n",
      "75                       78%        2017  \n",
      "76                       78%        2017  \n"
     ]
    }
   ],
   "source": [
    "#find duplicate rows\n",
    "print(df[df.duplicated()])"
   ]
  },
  {
   "cell_type": "code",
   "execution_count": 5,
   "metadata": {},
   "outputs": [
    {
     "name": "stdout",
     "output_type": "stream",
     "text": [
      "Empty DataFrame\n",
      "Columns: [ISO3, Countries and areas, Region, Sub-region, Income Group, Total, Residence (Rural), Residence (Urban), Wealth quintile (Poorest), Wealth quintile (Richest), Time period]\n",
      "Index: []\n"
     ]
    }
   ],
   "source": [
    "#drop duplicates\n",
    "df.drop_duplicates(inplace=True)\n",
    "print(df[df.duplicated()])"
   ]
  },
  {
   "cell_type": "code",
   "execution_count": 6,
   "metadata": {},
   "outputs": [],
   "source": [
    "# convert percentage strings to float\n",
    "df.iloc[:, 5:10] = df.iloc[:, 5:10].apply(lambda x: x.str.replace('%', '') if x.dtype == \"object\" else x)\n",
    "df.iloc[:, 5:10] = df.iloc[:, 5:10].astype(float)    "
   ]
  },
  {
   "cell_type": "code",
   "execution_count": 7,
   "metadata": {},
   "outputs": [
    {
     "data": {
      "text/plain": [
       "Income Group\n",
       "Upper middle income (UM)     32\n",
       "Lower middle income (LM)     28\n",
       "Low income (L)               18\n",
       "High income (H)               7\n",
       "Lower middle income (LLM)     1\n",
       "Lower middle income (LMM)     1\n",
       "Name: count, dtype: int64"
      ]
     },
     "execution_count": 7,
     "metadata": {},
     "output_type": "execute_result"
    }
   ],
   "source": [
    "# finding structural error\n",
    "df[\"Income Group\"].value_counts()"
   ]
  },
  {
   "cell_type": "code",
   "execution_count": 8,
   "metadata": {},
   "outputs": [
    {
     "data": {
      "text/plain": [
       "Income Group\n",
       "Upper middle income (UM)    32\n",
       "Lower middle income (LM)    30\n",
       "Low income (L)              18\n",
       "High income (H)              7\n",
       "Name: count, dtype: int64"
      ]
     },
     "execution_count": 8,
     "metadata": {},
     "output_type": "execute_result"
    }
   ],
   "source": [
    "# replace with correct category\n",
    "df[\"Income Group\"] = df[\"Income Group\"].replace({\n",
    "    \"Lower middle income (LLM)\": \"Lower middle income (LM)\",\n",
    "    \"Lower middle income (LMM)\": \"Lower middle income (LM)\"\n",
    "})\n",
    "df[\"Income Group\"].value_counts()"
   ]
  },
  {
   "cell_type": "code",
   "execution_count": 9,
   "metadata": {},
   "outputs": [
    {
     "data": {
      "text/plain": [
       "Time period\n",
       "2018         16\n",
       "2018-2019     9\n",
       "2019          9\n",
       "2017          8\n",
       "2013          6\n",
       "2012          5\n",
       "2017-2018     5\n",
       "2015          4\n",
       "2015-2016     4\n",
       "2014-2015     3\n",
       "2010          3\n",
       "2014          3\n",
       "2016          3\n",
       "2011-2012     3\n",
       "2016-2017     2\n",
       "2076          1\n",
       "3562          1\n",
       "2011          1\n",
       "2012-2099     1\n",
       "Name: count, dtype: int64"
      ]
     },
     "execution_count": 9,
     "metadata": {},
     "output_type": "execute_result"
    }
   ],
   "source": [
    "# finding structural error\n",
    "df[\"Time period\"].value_counts()"
   ]
  },
  {
   "cell_type": "code",
   "execution_count": 10,
   "metadata": {},
   "outputs": [
    {
     "data": {
      "text/plain": [
       "Time period\n",
       "2018         16\n",
       "2018-2019     9\n",
       "2019          9\n",
       "2017          8\n",
       "2013          6\n",
       "2017-2018     5\n",
       "2012          5\n",
       "2015-2016     4\n",
       "2015          4\n",
       "2016          3\n",
       "2010          3\n",
       "2014          3\n",
       "2011-2012     3\n",
       "2014-2015     3\n",
       "2016-2017     2\n",
       "2076          1\n",
       "2011          1\n",
       "Name: count, dtype: int64"
      ]
     },
     "execution_count": 10,
     "metadata": {},
     "output_type": "execute_result"
    }
   ],
   "source": [
    "# remove impossible time periods\n",
    "df = df[(df[\"Time period\"] != '3562') & (df[\"Time period\"] != '2012-2099')]\n",
    "df[\"Time period\"].value_counts()"
   ]
  },
  {
   "cell_type": "code",
   "execution_count": 11,
   "metadata": {},
   "outputs": [],
   "source": [
    "# remove impossible percentages\n",
    "df = df.drop(df[(df[\"Total\"] < 0) | (df[\"Total\"] > 100)].index)\n",
    "df = df.drop(df[(df[\"Residence (Rural)\"] < 0) | (df[\"Residence (Rural)\"] > 100)].index)\n",
    "df = df.drop(df[(df[\"Wealth quintile (Poorest)\"] < 0) | (df[\"Wealth quintile (Poorest)\"] > 100)].index)\n",
    "df = df.drop(df[(df[\"Wealth quintile (Richest)\"] < 0) | (df[\"Wealth quintile (Richest)\"] > 100)].index)\n",
    "\n",
    "df = df[df[\"Countries and areas\"] != \"Kenya\"]"
   ]
  },
  {
   "cell_type": "code",
   "execution_count": 12,
   "metadata": {},
   "outputs": [
    {
     "data": {
      "text/plain": [
       "ISO3                         0\n",
       "Countries and areas          0\n",
       "Region                       0\n",
       "Sub-region                   0\n",
       "Income Group                 0\n",
       "Total                        0\n",
       "Residence (Rural)            5\n",
       "Residence (Urban)            4\n",
       "Wealth quintile (Poorest)    7\n",
       "Wealth quintile (Richest)    7\n",
       "Time period                  0\n",
       "dtype: int64"
      ]
     },
     "execution_count": 12,
     "metadata": {},
     "output_type": "execute_result"
    }
   ],
   "source": [
    "# columns with NaN values\n",
    "df.isnull().sum()"
   ]
  },
  {
   "cell_type": "code",
   "execution_count": 13,
   "metadata": {},
   "outputs": [
    {
     "name": "stdout",
     "output_type": "stream",
     "text": [
      "Residence (Rural)            1.004273\n",
      "Residence (Urban)            0.280391\n",
      "Wealth quintile (Poorest)    1.599889\n",
      "Wealth quintile (Richest)   -0.490663\n",
      "dtype: object\n"
     ]
    }
   ],
   "source": [
    "# get skewness values\n",
    "print(df[[\"Residence (Rural)\", \"Residence (Urban)\", \"Wealth quintile (Poorest)\", \"Wealth quintile (Richest)\"]].skew())"
   ]
  },
  {
   "cell_type": "code",
   "execution_count": 14,
   "metadata": {
    "editable": true,
    "slideshow": {
     "slide_type": ""
    },
    "tags": []
   },
   "outputs": [
    {
     "data": {
      "text/html": [
       "<div>\n",
       "<style scoped>\n",
       "    .dataframe tbody tr th:only-of-type {\n",
       "        vertical-align: middle;\n",
       "    }\n",
       "\n",
       "    .dataframe tbody tr th {\n",
       "        vertical-align: top;\n",
       "    }\n",
       "\n",
       "    .dataframe thead th {\n",
       "        text-align: right;\n",
       "    }\n",
       "</style>\n",
       "<table border=\"1\" class=\"dataframe\">\n",
       "  <thead>\n",
       "    <tr style=\"text-align: right;\">\n",
       "      <th></th>\n",
       "      <th>Wealth quintile (Poorest)</th>\n",
       "    </tr>\n",
       "  </thead>\n",
       "  <tbody>\n",
       "    <tr>\n",
       "      <th>0</th>\n",
       "      <td>21.0</td>\n",
       "    </tr>\n",
       "    <tr>\n",
       "      <th>1</th>\n",
       "      <td>1.0</td>\n",
       "    </tr>\n",
       "    <tr>\n",
       "      <th>2</th>\n",
       "      <td>21.0</td>\n",
       "    </tr>\n",
       "    <tr>\n",
       "      <th>3</th>\n",
       "      <td>21.0</td>\n",
       "    </tr>\n",
       "    <tr>\n",
       "      <th>4</th>\n",
       "      <td>1.0</td>\n",
       "    </tr>\n",
       "  </tbody>\n",
       "</table>\n",
       "</div>"
      ],
      "text/plain": [
       "   Wealth quintile (Poorest)\n",
       "0                       21.0\n",
       "1                        1.0\n",
       "2                       21.0\n",
       "3                       21.0\n",
       "4                        1.0"
      ]
     },
     "execution_count": 14,
     "metadata": {},
     "output_type": "execute_result"
    }
   ],
   "source": [
    "# get the mean values of each income group for columns with NaN values, round to one decimal \n",
    "income_group_means = df.groupby(\"Income Group\")[[\"Residence (Rural)\", \"Residence (Urban)\", \"Wealth quintile (Richest)\"]].transform(lambda x: round(x.median(), 1))\n",
    "\n",
    "# median for Wealth quintile (Poorest) since skew is >1.5, round to one decimal \n",
    "income_group_medians = df.groupby(\"Income Group\")[[\"Wealth quintile (Poorest)\"]].transform(lambda x: round(x.median(), 1))\n",
    "\n",
    "income_group_medians.head()"
   ]
  },
  {
   "cell_type": "code",
   "execution_count": 15,
   "metadata": {},
   "outputs": [],
   "source": [
    "# replace Nan values with means/medians of that income group for the column\n",
    "df[\"Residence (Rural)\"] = df[\"Residence (Rural)\"].fillna(income_group_means[\"Residence (Rural)\"])\n",
    "df[\"Residence (Urban)\"] = df[\"Residence (Urban)\"].fillna(income_group_means[\"Residence (Urban)\"])\n",
    "df[\"Wealth quintile (Richest)\"] = df[\"Wealth quintile (Richest)\"].fillna(income_group_means[\"Wealth quintile (Richest)\"])\n",
    "df[\"Wealth quintile (Poorest)\"] = df[\"Wealth quintile (Poorest)\"].fillna(income_group_medians[\"Wealth quintile (Poorest)\"])"
   ]
  },
  {
   "cell_type": "code",
   "execution_count": 16,
   "metadata": {},
   "outputs": [
    {
     "data": {
      "text/plain": [
       "ISO3                         0\n",
       "Countries and areas          0\n",
       "Region                       0\n",
       "Sub-region                   0\n",
       "Income Group                 0\n",
       "Total                        0\n",
       "Residence (Rural)            0\n",
       "Residence (Urban)            0\n",
       "Wealth quintile (Poorest)    0\n",
       "Wealth quintile (Richest)    0\n",
       "Time period                  0\n",
       "dtype: int64"
      ]
     },
     "execution_count": 16,
     "metadata": {},
     "output_type": "execute_result"
    }
   ],
   "source": [
    "df.isnull().sum()"
   ]
  },
  {
   "cell_type": "code",
   "execution_count": 17,
   "metadata": {},
   "outputs": [
    {
     "name": "stdout",
     "output_type": "stream",
     "text": [
      "<class 'pandas.core.frame.DataFrame'>\n",
      "Index: 83 entries, 0 to 89\n",
      "Data columns (total 11 columns):\n",
      " #   Column                     Non-Null Count  Dtype \n",
      "---  ------                     --------------  ----- \n",
      " 0   ISO3                       83 non-null     object\n",
      " 1   Countries and areas        83 non-null     object\n",
      " 2   Region                     83 non-null     object\n",
      " 3   Sub-region                 83 non-null     object\n",
      " 4   Income Group               83 non-null     object\n",
      " 5   Total                      83 non-null     object\n",
      " 6   Residence (Rural)          83 non-null     object\n",
      " 7   Residence (Urban)          83 non-null     object\n",
      " 8   Wealth quintile (Poorest)  83 non-null     object\n",
      " 9   Wealth quintile (Richest)  83 non-null     object\n",
      " 10  Time period                83 non-null     object\n",
      "dtypes: object(11)\n",
      "memory usage: 7.8+ KB\n"
     ]
    }
   ],
   "source": [
    "df.info()"
   ]
  },
  {
   "cell_type": "code",
   "execution_count": 18,
   "metadata": {},
   "outputs": [
    {
     "data": {
      "text/html": [
       "<div>\n",
       "<style scoped>\n",
       "    .dataframe tbody tr th:only-of-type {\n",
       "        vertical-align: middle;\n",
       "    }\n",
       "\n",
       "    .dataframe tbody tr th {\n",
       "        vertical-align: top;\n",
       "    }\n",
       "\n",
       "    .dataframe thead th {\n",
       "        text-align: right;\n",
       "    }\n",
       "</style>\n",
       "<table border=\"1\" class=\"dataframe\">\n",
       "  <thead>\n",
       "    <tr style=\"text-align: right;\">\n",
       "      <th></th>\n",
       "      <th>ISO3</th>\n",
       "      <th>Countries and areas</th>\n",
       "      <th>Region</th>\n",
       "      <th>Sub-region</th>\n",
       "      <th>Income Group</th>\n",
       "      <th>Total</th>\n",
       "      <th>Residence (Rural)</th>\n",
       "      <th>Residence (Urban)</th>\n",
       "      <th>Wealth quintile (Poorest)</th>\n",
       "      <th>Wealth quintile (Richest)</th>\n",
       "      <th>Time period</th>\n",
       "    </tr>\n",
       "  </thead>\n",
       "  <tbody>\n",
       "    <tr>\n",
       "      <th>0</th>\n",
       "      <td>DZA</td>\n",
       "      <td>Algeria</td>\n",
       "      <td>MENA</td>\n",
       "      <td>MENA</td>\n",
       "      <td>Upper middle income (UM)</td>\n",
       "      <td>25.0</td>\n",
       "      <td>10.0</td>\n",
       "      <td>33.0</td>\n",
       "      <td>1.0</td>\n",
       "      <td>78.0</td>\n",
       "      <td>2018-2019</td>\n",
       "    </tr>\n",
       "    <tr>\n",
       "      <th>1</th>\n",
       "      <td>AGO</td>\n",
       "      <td>Angola</td>\n",
       "      <td>SSA</td>\n",
       "      <td>ESA</td>\n",
       "      <td>Lower middle income (LM)</td>\n",
       "      <td>19.0</td>\n",
       "      <td>2.0</td>\n",
       "      <td>27.0</td>\n",
       "      <td>0.0</td>\n",
       "      <td>62.0</td>\n",
       "      <td>2015-2016</td>\n",
       "    </tr>\n",
       "    <tr>\n",
       "      <th>2</th>\n",
       "      <td>ARG</td>\n",
       "      <td>Argentina</td>\n",
       "      <td>LAC</td>\n",
       "      <td>LAC</td>\n",
       "      <td>Upper middle income (UM)</td>\n",
       "      <td>43.0</td>\n",
       "      <td>44.0</td>\n",
       "      <td>58.0</td>\n",
       "      <td>21.0</td>\n",
       "      <td>91.0</td>\n",
       "      <td>2011-2012</td>\n",
       "    </tr>\n",
       "    <tr>\n",
       "      <th>3</th>\n",
       "      <td>ARM</td>\n",
       "      <td>Armenia</td>\n",
       "      <td>ECA</td>\n",
       "      <td>EECA</td>\n",
       "      <td>Upper middle income (UM)</td>\n",
       "      <td>81.0</td>\n",
       "      <td>71.0</td>\n",
       "      <td>89.0</td>\n",
       "      <td>44.0</td>\n",
       "      <td>99.0</td>\n",
       "      <td>2015-2016</td>\n",
       "    </tr>\n",
       "    <tr>\n",
       "      <th>4</th>\n",
       "      <td>BGD</td>\n",
       "      <td>Bangladesh</td>\n",
       "      <td>SA</td>\n",
       "      <td>SA</td>\n",
       "      <td>Lower middle income (LM)</td>\n",
       "      <td>34.0</td>\n",
       "      <td>31.0</td>\n",
       "      <td>48.0</td>\n",
       "      <td>8.0</td>\n",
       "      <td>73.0</td>\n",
       "      <td>2019</td>\n",
       "    </tr>\n",
       "    <tr>\n",
       "      <th>...</th>\n",
       "      <td>...</td>\n",
       "      <td>...</td>\n",
       "      <td>...</td>\n",
       "      <td>...</td>\n",
       "      <td>...</td>\n",
       "      <td>...</td>\n",
       "      <td>...</td>\n",
       "      <td>...</td>\n",
       "      <td>...</td>\n",
       "      <td>...</td>\n",
       "      <td>...</td>\n",
       "    </tr>\n",
       "    <tr>\n",
       "      <th>84</th>\n",
       "      <td>GBR</td>\n",
       "      <td>United Kingdom</td>\n",
       "      <td>ECA</td>\n",
       "      <td>WE</td>\n",
       "      <td>High income (H)</td>\n",
       "      <td>99.0</td>\n",
       "      <td>66.0</td>\n",
       "      <td>69.0</td>\n",
       "      <td>20.0</td>\n",
       "      <td>93.0</td>\n",
       "      <td>2016</td>\n",
       "    </tr>\n",
       "    <tr>\n",
       "      <th>86</th>\n",
       "      <td>UZB</td>\n",
       "      <td>Uzbekistan</td>\n",
       "      <td>ECA</td>\n",
       "      <td>EECA</td>\n",
       "      <td>Lower middle income (LM)</td>\n",
       "      <td>18.0</td>\n",
       "      <td>14.0</td>\n",
       "      <td>31.0</td>\n",
       "      <td>1.0</td>\n",
       "      <td>70.0</td>\n",
       "      <td>2017</td>\n",
       "    </tr>\n",
       "    <tr>\n",
       "      <th>87</th>\n",
       "      <td>VNM</td>\n",
       "      <td>Viet Nam</td>\n",
       "      <td>EAP</td>\n",
       "      <td>EAP</td>\n",
       "      <td>Lower middle income (LM)</td>\n",
       "      <td>45.0</td>\n",
       "      <td>17.0</td>\n",
       "      <td>62.0</td>\n",
       "      <td>11.0</td>\n",
       "      <td>82.0</td>\n",
       "      <td>2012</td>\n",
       "    </tr>\n",
       "    <tr>\n",
       "      <th>88</th>\n",
       "      <td>ZMB</td>\n",
       "      <td>Zambia</td>\n",
       "      <td>SSA</td>\n",
       "      <td>ESA</td>\n",
       "      <td>Lower middle income (LM)</td>\n",
       "      <td>8.0</td>\n",
       "      <td>2.0</td>\n",
       "      <td>16.0</td>\n",
       "      <td>0.0</td>\n",
       "      <td>31.0</td>\n",
       "      <td>2018-2019</td>\n",
       "    </tr>\n",
       "    <tr>\n",
       "      <th>89</th>\n",
       "      <td>ZWE</td>\n",
       "      <td>Zimbabwe</td>\n",
       "      <td>SSA</td>\n",
       "      <td>ESA</td>\n",
       "      <td>Lower middle income (LM)</td>\n",
       "      <td>24.0</td>\n",
       "      <td>17.0</td>\n",
       "      <td>50.0</td>\n",
       "      <td>4.0</td>\n",
       "      <td>65.0</td>\n",
       "      <td>2018-2019</td>\n",
       "    </tr>\n",
       "  </tbody>\n",
       "</table>\n",
       "<p>83 rows × 11 columns</p>\n",
       "</div>"
      ],
      "text/plain": [
       "   ISO3 Countries and areas Region Sub-region              Income Group Total  \\\n",
       "0   DZA             Algeria   MENA       MENA  Upper middle income (UM)  25.0   \n",
       "1   AGO              Angola    SSA        ESA  Lower middle income (LM)  19.0   \n",
       "2   ARG           Argentina    LAC        LAC  Upper middle income (UM)  43.0   \n",
       "3   ARM             Armenia    ECA       EECA  Upper middle income (UM)  81.0   \n",
       "4   BGD          Bangladesh     SA         SA  Lower middle income (LM)  34.0   \n",
       "..  ...                 ...    ...        ...                       ...   ...   \n",
       "84  GBR      United Kingdom    ECA         WE           High income (H)  99.0   \n",
       "86  UZB          Uzbekistan    ECA       EECA  Lower middle income (LM)  18.0   \n",
       "87  VNM            Viet Nam    EAP        EAP  Lower middle income (LM)  45.0   \n",
       "88  ZMB              Zambia    SSA        ESA  Lower middle income (LM)   8.0   \n",
       "89  ZWE            Zimbabwe    SSA        ESA  Lower middle income (LM)  24.0   \n",
       "\n",
       "   Residence (Rural) Residence (Urban) Wealth quintile (Poorest)  \\\n",
       "0               10.0              33.0                       1.0   \n",
       "1                2.0              27.0                       0.0   \n",
       "2               44.0              58.0                      21.0   \n",
       "3               71.0              89.0                      44.0   \n",
       "4               31.0              48.0                       8.0   \n",
       "..               ...               ...                       ...   \n",
       "84              66.0              69.0                      20.0   \n",
       "86              14.0              31.0                       1.0   \n",
       "87              17.0              62.0                      11.0   \n",
       "88               2.0              16.0                       0.0   \n",
       "89              17.0              50.0                       4.0   \n",
       "\n",
       "   Wealth quintile (Richest) Time period  \n",
       "0                       78.0   2018-2019  \n",
       "1                       62.0   2015-2016  \n",
       "2                       91.0   2011-2012  \n",
       "3                       99.0   2015-2016  \n",
       "4                       73.0        2019  \n",
       "..                       ...         ...  \n",
       "84                      93.0        2016  \n",
       "86                      70.0        2017  \n",
       "87                      82.0        2012  \n",
       "88                      31.0   2018-2019  \n",
       "89                      65.0   2018-2019  \n",
       "\n",
       "[83 rows x 11 columns]"
      ]
     },
     "execution_count": 18,
     "metadata": {},
     "output_type": "execute_result"
    }
   ],
   "source": [
    "#write to csv\n",
    "df.to_csv(\"S3902159-cleaned-A1data.csv\")\n",
    "df"
   ]
  },
  {
   "cell_type": "markdown",
   "metadata": {
    "id": "r-i5aIqXpPbu"
   },
   "source": [
    "# Task 2: Data Exploration"
   ]
  },
  {
   "cell_type": "code",
   "execution_count": 19,
   "metadata": {},
   "outputs": [],
   "source": [
    "# cleaned csv to dataframe \n",
    "cleaned_df = pd.read_csv(\"S3902159-cleaned-A1data.csv\")"
   ]
  },
  {
   "cell_type": "code",
   "execution_count": 20,
   "metadata": {},
   "outputs": [
    {
     "name": "stdout",
     "output_type": "stream",
     "text": [
      "<class 'pandas.core.frame.DataFrame'>\n",
      "RangeIndex: 83 entries, 0 to 82\n",
      "Data columns (total 12 columns):\n",
      " #   Column                     Non-Null Count  Dtype  \n",
      "---  ------                     --------------  -----  \n",
      " 0   Unnamed: 0                 83 non-null     int64  \n",
      " 1   ISO3                       83 non-null     object \n",
      " 2   Countries and areas        83 non-null     object \n",
      " 3   Region                     83 non-null     object \n",
      " 4   Sub-region                 83 non-null     object \n",
      " 5   Income Group               83 non-null     object \n",
      " 6   Total                      83 non-null     float64\n",
      " 7   Residence (Rural)          83 non-null     float64\n",
      " 8   Residence (Urban)          83 non-null     float64\n",
      " 9   Wealth quintile (Poorest)  83 non-null     float64\n",
      " 10  Wealth quintile (Richest)  83 non-null     float64\n",
      " 11  Time period                83 non-null     object \n",
      "dtypes: float64(5), int64(1), object(6)\n",
      "memory usage: 7.9+ KB\n"
     ]
    }
   ],
   "source": [
    "cleaned_df.info()"
   ]
  },
  {
   "cell_type": "markdown",
   "metadata": {
    "id": "QOY4K_neos9j"
   },
   "source": [
    "## Task 2.1 "
   ]
  },
  {
   "cell_type": "code",
   "execution_count": 21,
   "metadata": {
    "id": "ziwtOfWJn-Eh",
    "scrolled": true
   },
   "outputs": [
    {
     "name": "stdout",
     "output_type": "stream",
     "text": [
      "Region\n",
      "EAP     47.5\n",
      "ECA     77.5\n",
      "LAC     43.0\n",
      "MENA    33.0\n",
      "SA      39.0\n",
      "SSA      6.5\n",
      "Name: Total, dtype: float64\n"
     ]
    }
   ],
   "source": [
    "# group Total by Region with median\n",
    "median_total_by_region = cleaned_df.groupby(\"Region\")[\"Total\"].median()\n",
    "print(median_total_by_region)"
   ]
  },
  {
   "cell_type": "code",
   "execution_count": 22,
   "metadata": {},
   "outputs": [
    {
     "data": {
      "text/plain": [
       "<Figure size 1000x600 with 0 Axes>"
      ]
     },
     "execution_count": 22,
     "metadata": {},
     "output_type": "execute_result"
    },
    {
     "data": {
      "text/plain": [
       "Text(0.5, 1.0, 'Median Total Percentage of Children with Internet at Home')"
      ]
     },
     "execution_count": 22,
     "metadata": {},
     "output_type": "execute_result"
    },
    {
     "data": {
      "text/plain": [
       "Text(0.5, 0, 'Region')"
      ]
     },
     "execution_count": 22,
     "metadata": {},
     "output_type": "execute_result"
    },
    {
     "data": {
      "text/plain": [
       "Text(0, 0.5, 'Total Percentage')"
      ]
     },
     "execution_count": 22,
     "metadata": {},
     "output_type": "execute_result"
    },
    {
     "data": {
      "image/png": "[encoded data removed]",
      "text/plain": [
       "<Figure size 1000x600 with 1 Axes>"
      ]
     },
     "metadata": {},
     "output_type": "display_data"
    }
   ],
   "source": [
    "# make boxplot\n",
    "sns.set_theme(style=\"darkgrid\")\n",
    " \n",
    "plt.figure(figsize=(10, 6))  # You can adjust the figure size as needed\n",
    "median_total_boxplot = sns.boxplot(x=\"Region\", y=\"Total\", data=cleaned_df, width=0.6)\n",
    "\n",
    "# title and text sizes\n",
    "median_total_boxplot.set_title(\"Median Total Percentage of Children with Internet at Home\", fontsize=11, fontweight='bold')\n",
    "median_total_boxplot.set_xlabel(\"Region\", fontsize=12)\n",
    "median_total_boxplot.set_ylabel(\"Total Percentage\", fontsize=12)\n",
    "median_total_boxplot.tick_params(axis='x', labelsize=12)  \n",
    "median_total_boxplot.tick_params(axis='y', labelsize=12)  \n",
    "\n",
    "# show boxplot\n",
    "plt.show()"
   ]
  },
  {
   "cell_type": "markdown",
   "metadata": {
    "id": "0-HLFaWTo7Gr"
   },
   "source": [
    "## Task 2.2 "
   ]
  },
  {
   "cell_type": "code",
   "execution_count": 23,
   "metadata": {},
   "outputs": [
    {
     "name": "stdout",
     "output_type": "stream",
     "text": [
      "Wealth quintile (Poorest) Mean: 16.89156626506024\n",
      "Wealth quintile (Poorest) Mean: 62.04819277108434\n"
     ]
    }
   ],
   "source": [
    "# mean for Wealth quintile (Poorest) and Wealth quintile (Richest)\n",
    "mean_poorest = cleaned_df[\"Wealth quintile (Poorest)\"].mean()\n",
    "mean_richest = cleaned_df[\"Wealth quintile (Richest)\"].mean()\n",
    "\n",
    "print(f\"Wealth quintile (Poorest) Mean: {mean_poorest}\")\n",
    "print(f\"Wealth quintile (Poorest) Mean: {mean_richest}\")"
   ]
  },
  {
   "cell_type": "code",
   "execution_count": 24,
   "metadata": {},
   "outputs": [
    {
     "data": {
      "text/html": [
       "<div>\n",
       "<style scoped>\n",
       "    .dataframe tbody tr th:only-of-type {\n",
       "        vertical-align: middle;\n",
       "    }\n",
       "\n",
       "    .dataframe tbody tr th {\n",
       "        vertical-align: top;\n",
       "    }\n",
       "\n",
       "    .dataframe thead th {\n",
       "        text-align: right;\n",
       "    }\n",
       "</style>\n",
       "<table border=\"1\" class=\"dataframe\">\n",
       "  <thead>\n",
       "    <tr style=\"text-align: right;\">\n",
       "      <th></th>\n",
       "      <th>Countries and areas</th>\n",
       "      <th>Wealth quintile (Poorest)</th>\n",
       "    </tr>\n",
       "  </thead>\n",
       "  <tbody>\n",
       "    <tr>\n",
       "      <th>65</th>\n",
       "      <td>Somalia</td>\n",
       "      <td>100.0</td>\n",
       "    </tr>\n",
       "    <tr>\n",
       "      <th>9</th>\n",
       "      <td>Brazil</td>\n",
       "      <td>84.0</td>\n",
       "    </tr>\n",
       "    <tr>\n",
       "      <th>77</th>\n",
       "      <td>Tonga</td>\n",
       "      <td>83.0</td>\n",
       "    </tr>\n",
       "    <tr>\n",
       "      <th>15</th>\n",
       "      <td>Chile</td>\n",
       "      <td>75.0</td>\n",
       "    </tr>\n",
       "    <tr>\n",
       "      <th>68</th>\n",
       "      <td>Sri Lanka</td>\n",
       "      <td>71.0</td>\n",
       "    </tr>\n",
       "    <tr>\n",
       "      <th>73</th>\n",
       "      <td>North Macedonia</td>\n",
       "      <td>68.0</td>\n",
       "    </tr>\n",
       "    <tr>\n",
       "      <th>63</th>\n",
       "      <td>Serbia</td>\n",
       "      <td>65.0</td>\n",
       "    </tr>\n",
       "    <tr>\n",
       "      <th>36</th>\n",
       "      <td>Japan</td>\n",
       "      <td>64.0</td>\n",
       "    </tr>\n",
       "    <tr>\n",
       "      <th>40</th>\n",
       "      <td>Kyrgyzstan</td>\n",
       "      <td>56.0</td>\n",
       "    </tr>\n",
       "    <tr>\n",
       "      <th>49</th>\n",
       "      <td>Montenegro</td>\n",
       "      <td>55.0</td>\n",
       "    </tr>\n",
       "  </tbody>\n",
       "</table>\n",
       "</div>"
      ],
      "text/plain": [
       "   Countries and areas Wealth quintile (Poorest)\n",
       "65             Somalia                     100.0\n",
       "9               Brazil                      84.0\n",
       "77               Tonga                      83.0\n",
       "15               Chile                      75.0\n",
       "68           Sri Lanka                      71.0\n",
       "73     North Macedonia                      68.0\n",
       "63              Serbia                      65.0\n",
       "36               Japan                      64.0\n",
       "40          Kyrgyzstan                      56.0\n",
       "49          Montenegro                      55.0"
      ]
     },
     "execution_count": 24,
     "metadata": {},
     "output_type": "execute_result"
    },
    {
     "data": {
      "text/html": [
       "<div>\n",
       "<style scoped>\n",
       "    .dataframe tbody tr th:only-of-type {\n",
       "        vertical-align: middle;\n",
       "    }\n",
       "\n",
       "    .dataframe tbody tr th {\n",
       "        vertical-align: top;\n",
       "    }\n",
       "\n",
       "    .dataframe thead th {\n",
       "        text-align: right;\n",
       "    }\n",
       "</style>\n",
       "<table border=\"1\" class=\"dataframe\">\n",
       "  <thead>\n",
       "    <tr style=\"text-align: right;\">\n",
       "      <th></th>\n",
       "      <th>Countries and areas</th>\n",
       "      <th>Wealth quintile (Richest)</th>\n",
       "    </tr>\n",
       "  </thead>\n",
       "  <tbody>\n",
       "    <tr>\n",
       "      <th>10</th>\n",
       "      <td>Bulgaria</td>\n",
       "      <td>100.0</td>\n",
       "    </tr>\n",
       "    <tr>\n",
       "      <th>63</th>\n",
       "      <td>Serbia</td>\n",
       "      <td>100.0</td>\n",
       "    </tr>\n",
       "    <tr>\n",
       "      <th>65</th>\n",
       "      <td>Somalia</td>\n",
       "      <td>100.0</td>\n",
       "    </tr>\n",
       "    <tr>\n",
       "      <th>5</th>\n",
       "      <td>Barbados</td>\n",
       "      <td>100.0</td>\n",
       "    </tr>\n",
       "    <tr>\n",
       "      <th>73</th>\n",
       "      <td>North Macedonia</td>\n",
       "      <td>100.0</td>\n",
       "    </tr>\n",
       "    <tr>\n",
       "      <th>18</th>\n",
       "      <td>Costa Rica</td>\n",
       "      <td>99.0</td>\n",
       "    </tr>\n",
       "    <tr>\n",
       "      <th>15</th>\n",
       "      <td>Chile</td>\n",
       "      <td>99.0</td>\n",
       "    </tr>\n",
       "    <tr>\n",
       "      <th>17</th>\n",
       "      <td>Colombia</td>\n",
       "      <td>99.0</td>\n",
       "    </tr>\n",
       "    <tr>\n",
       "      <th>27</th>\n",
       "      <td>Georgia</td>\n",
       "      <td>99.0</td>\n",
       "    </tr>\n",
       "    <tr>\n",
       "      <th>68</th>\n",
       "      <td>Sri Lanka</td>\n",
       "      <td>99.0</td>\n",
       "    </tr>\n",
       "  </tbody>\n",
       "</table>\n",
       "</div>"
      ],
      "text/plain": [
       "   Countries and areas Wealth quintile (Richest)\n",
       "10            Bulgaria                     100.0\n",
       "63              Serbia                     100.0\n",
       "65             Somalia                     100.0\n",
       "5             Barbados                     100.0\n",
       "73     North Macedonia                     100.0\n",
       "18          Costa Rica                      99.0\n",
       "15               Chile                      99.0\n",
       "17            Colombia                      99.0\n",
       "27             Georgia                      99.0\n",
       "68           Sri Lanka                      99.0"
      ]
     },
     "execution_count": 24,
     "metadata": {},
     "output_type": "execute_result"
    }
   ],
   "source": [
    "# sort top 10 Wealth quintile (Poorest) and Wealth quintile (Richest) by Countries\n",
    "top_poorest = df.sort_values(by=\"Wealth quintile (Poorest)\", ascending=False).head(10)\n",
    "top_richest = df.sort_values(by=\"Wealth quintile (Richest)\", ascending=False).head(10)\n",
    "\n",
    "# show relevant columns for each df\n",
    "top_poorest[[\"Countries and areas\", \"Wealth quintile (Poorest)\"]]\n",
    "top_richest[[\"Countries and areas\",\"Wealth quintile (Richest)\"]]"
   ]
  },
  {
   "cell_type": "markdown",
   "metadata": {
    "id": "jnasiwOAo_RP"
   },
   "source": [
    "## Task 2.3 "
   ]
  },
  {
   "cell_type": "code",
   "execution_count": 25,
   "metadata": {
    "id": "hHsmCb2gn-Ei"
   },
   "outputs": [],
   "source": [
    "# Code goes after this line by adding cells\n"
   ]
  }
 ],
 "metadata": {
  "colab": {
   "collapsed_sections": [],
   "name": "assignment1_TEMPLATE.ipynb",
   "provenance": [],
   "toc_visible": true
  },
  "kernelspec": {
   "display_name": "Python 3 (ipykernel)",
   "language": "python",
   "name": "python3"
  },
  "language_info": {
   "codemirror_mode": {
    "name": "ipython",
    "version": 3
   },
   "file_extension": ".py",
   "mimetype": "text/x-python",
   "name": "python",
   "nbconvert_exporter": "python",
   "pygments_lexer": "ipython3",
   "version": "3.11.4"
  }
 },
 "nbformat": 4,
 "nbformat_minor": 4
}
