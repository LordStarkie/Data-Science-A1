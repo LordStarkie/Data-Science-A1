{
 "cells": [
  {
   "cell_type": "markdown",
   "metadata": {
    "editable": true,
    "id": "u-EEv9utoT69",
    "slideshow": {
     "slide_type": ""
    },
    "tags": []
   },
   "source": [
    "# Task 1: Data Preparation\n"
   ]
  },
  {
   "cell_type": "code",
   "execution_count": 9,
   "metadata": {
    "id": "RU9Pm6LKfToO"
   },
   "outputs": [],
   "source": [
    "import pandas as pd\n",
    "import numpy as np\n",
    "import matplotlib as plt\n",
    "import seaborn as sns\n",
    "\n",
    "pd.set_option('future.no_silent_downcasting', True)"
   ]
  },
  {
   "cell_type": "code",
   "execution_count": 10,
   "metadata": {
    "scrolled": true
   },
   "outputs": [
    {
     "data": {
      "text/html": [
       "<div>\n",
       "<style scoped>\n",
       "    .dataframe tbody tr th:only-of-type {\n",
       "        vertical-align: middle;\n",
       "    }\n",
       "\n",
       "    .dataframe tbody tr th {\n",
       "        vertical-align: top;\n",
       "    }\n",
       "\n",
       "    .dataframe thead th {\n",
       "        text-align: right;\n",
       "    }\n",
       "</style>\n",
       "<table border=\"1\" class=\"dataframe\">\n",
       "  <thead>\n",
       "    <tr style=\"text-align: right;\">\n",
       "      <th></th>\n",
       "      <th>ISO3</th>\n",
       "      <th>Countries and areas</th>\n",
       "      <th>Region</th>\n",
       "      <th>Sub-region</th>\n",
       "      <th>Income Group</th>\n",
       "      <th>Total</th>\n",
       "      <th>Residence (Rural)</th>\n",
       "      <th>Residence (Urban)</th>\n",
       "      <th>Wealth quintile (Poorest)</th>\n",
       "      <th>Wealth quintile (Richest)</th>\n",
       "      <th>Time period</th>\n",
       "    </tr>\n",
       "  </thead>\n",
       "  <tbody>\n",
       "    <tr>\n",
       "      <th>0</th>\n",
       "      <td>DZA</td>\n",
       "      <td>Algeria</td>\n",
       "      <td>MENA</td>\n",
       "      <td>MENA</td>\n",
       "      <td>Upper middle income (UM)</td>\n",
       "      <td>25%</td>\n",
       "      <td>10%</td>\n",
       "      <td>33%</td>\n",
       "      <td>1%</td>\n",
       "      <td>78%</td>\n",
       "      <td>2018-2019</td>\n",
       "    </tr>\n",
       "    <tr>\n",
       "      <th>1</th>\n",
       "      <td>AGO</td>\n",
       "      <td>Angola</td>\n",
       "      <td>SSA</td>\n",
       "      <td>ESA</td>\n",
       "      <td>Lower middle income (LM)</td>\n",
       "      <td>19%</td>\n",
       "      <td>2%</td>\n",
       "      <td>27%</td>\n",
       "      <td>0%</td>\n",
       "      <td>62%</td>\n",
       "      <td>2015-2016</td>\n",
       "    </tr>\n",
       "    <tr>\n",
       "      <th>2</th>\n",
       "      <td>ARG</td>\n",
       "      <td>Argentina</td>\n",
       "      <td>LAC</td>\n",
       "      <td>LAC</td>\n",
       "      <td>Upper middle income (UM)</td>\n",
       "      <td>43%</td>\n",
       "      <td>NaN</td>\n",
       "      <td>NaN</td>\n",
       "      <td>NaN</td>\n",
       "      <td>NaN</td>\n",
       "      <td>2011-2012</td>\n",
       "    </tr>\n",
       "    <tr>\n",
       "      <th>3</th>\n",
       "      <td>ARM</td>\n",
       "      <td>Armenia</td>\n",
       "      <td>ECA</td>\n",
       "      <td>EECA</td>\n",
       "      <td>Upper middle income (UM)</td>\n",
       "      <td>81%</td>\n",
       "      <td>71%</td>\n",
       "      <td>89%</td>\n",
       "      <td>44%</td>\n",
       "      <td>99%</td>\n",
       "      <td>2015-2016</td>\n",
       "    </tr>\n",
       "    <tr>\n",
       "      <th>4</th>\n",
       "      <td>BGD</td>\n",
       "      <td>Bangladesh</td>\n",
       "      <td>SA</td>\n",
       "      <td>SA</td>\n",
       "      <td>Lower middle income (LM)</td>\n",
       "      <td>34%</td>\n",
       "      <td>31%</td>\n",
       "      <td>48%</td>\n",
       "      <td>8%</td>\n",
       "      <td>73%</td>\n",
       "      <td>2019</td>\n",
       "    </tr>\n",
       "  </tbody>\n",
       "</table>\n",
       "</div>"
      ],
      "text/plain": [
       "  ISO3 Countries and areas Region Sub-region              Income Group Total  \\\n",
       "0  DZA             Algeria   MENA       MENA  Upper middle income (UM)   25%   \n",
       "1  AGO              Angola    SSA        ESA  Lower middle income (LM)   19%   \n",
       "2  ARG           Argentina    LAC        LAC  Upper middle income (UM)   43%   \n",
       "3  ARM             Armenia    ECA       EECA  Upper middle income (UM)   81%   \n",
       "4  BGD          Bangladesh     SA         SA  Lower middle income (LM)   34%   \n",
       "\n",
       "  Residence (Rural) Residence (Urban) Wealth quintile (Poorest)  \\\n",
       "0               10%               33%                        1%   \n",
       "1                2%               27%                        0%   \n",
       "2               NaN               NaN                       NaN   \n",
       "3               71%               89%                       44%   \n",
       "4               31%               48%                        8%   \n",
       "\n",
       "  Wealth quintile (Richest) Time period  \n",
       "0                       78%   2018-2019  \n",
       "1                       62%   2015-2016  \n",
       "2                       NaN   2011-2012  \n",
       "3                       99%   2015-2016  \n",
       "4                       73%        2019  "
      ]
     },
     "execution_count": 10,
     "metadata": {},
     "output_type": "execute_result"
    }
   ],
   "source": [
    "# csv to dataframe and show first 5 rows\n",
    "df = pd.read_csv(\"A1data.csv\")\n",
    "df.head()"
   ]
  },
  {
   "cell_type": "code",
   "execution_count": 11,
   "metadata": {},
   "outputs": [
    {
     "name": "stdout",
     "output_type": "stream",
     "text": [
      "<class 'pandas.core.frame.DataFrame'>\n",
      "RangeIndex: 90 entries, 0 to 89\n",
      "Data columns (total 11 columns):\n",
      " #   Column                     Non-Null Count  Dtype \n",
      "---  ------                     --------------  ----- \n",
      " 0   ISO3                       90 non-null     object\n",
      " 1   Countries and areas        90 non-null     object\n",
      " 2   Region                     90 non-null     object\n",
      " 3   Sub-region                 90 non-null     object\n",
      " 4   Income Group               90 non-null     object\n",
      " 5   Total                      90 non-null     object\n",
      " 6   Residence (Rural)          85 non-null     object\n",
      " 7   Residence (Urban)          86 non-null     object\n",
      " 8   Wealth quintile (Poorest)  83 non-null     object\n",
      " 9   Wealth quintile (Richest)  83 non-null     object\n",
      " 10  Time period                90 non-null     object\n",
      "dtypes: object(11)\n",
      "memory usage: 7.9+ KB\n"
     ]
    }
   ],
   "source": [
    "# get data types\n",
    "df.info()"
   ]
  },
  {
   "cell_type": "code",
   "execution_count": 12,
   "metadata": {},
   "outputs": [
    {
     "data": {
      "text/html": [
       "<div>\n",
       "<style scoped>\n",
       "    .dataframe tbody tr th:only-of-type {\n",
       "        vertical-align: middle;\n",
       "    }\n",
       "\n",
       "    .dataframe tbody tr th {\n",
       "        vertical-align: top;\n",
       "    }\n",
       "\n",
       "    .dataframe thead th {\n",
       "        text-align: right;\n",
       "    }\n",
       "</style>\n",
       "<table border=\"1\" class=\"dataframe\">\n",
       "  <thead>\n",
       "    <tr style=\"text-align: right;\">\n",
       "      <th></th>\n",
       "      <th>ISO3</th>\n",
       "      <th>Countries and areas</th>\n",
       "      <th>Region</th>\n",
       "      <th>Sub-region</th>\n",
       "      <th>Income Group</th>\n",
       "      <th>Total</th>\n",
       "      <th>Residence (Rural)</th>\n",
       "      <th>Residence (Urban)</th>\n",
       "      <th>Wealth quintile (Poorest)</th>\n",
       "      <th>Wealth quintile (Richest)</th>\n",
       "      <th>Time period</th>\n",
       "    </tr>\n",
       "  </thead>\n",
       "  <tbody>\n",
       "    <tr>\n",
       "      <th>0</th>\n",
       "      <td>DZA</td>\n",
       "      <td>Algeria</td>\n",
       "      <td>MENA</td>\n",
       "      <td>MENA</td>\n",
       "      <td>Upper middle income (UM)</td>\n",
       "      <td>25.0</td>\n",
       "      <td>10.0</td>\n",
       "      <td>33.0</td>\n",
       "      <td>1.0</td>\n",
       "      <td>78.0</td>\n",
       "      <td>2018-2019</td>\n",
       "    </tr>\n",
       "    <tr>\n",
       "      <th>1</th>\n",
       "      <td>AGO</td>\n",
       "      <td>Angola</td>\n",
       "      <td>SSA</td>\n",
       "      <td>ESA</td>\n",
       "      <td>Lower middle income (LM)</td>\n",
       "      <td>19.0</td>\n",
       "      <td>2.0</td>\n",
       "      <td>27.0</td>\n",
       "      <td>0.0</td>\n",
       "      <td>62.0</td>\n",
       "      <td>2015-2016</td>\n",
       "    </tr>\n",
       "    <tr>\n",
       "      <th>2</th>\n",
       "      <td>ARG</td>\n",
       "      <td>Argentina</td>\n",
       "      <td>LAC</td>\n",
       "      <td>LAC</td>\n",
       "      <td>Upper middle income (UM)</td>\n",
       "      <td>43.0</td>\n",
       "      <td>NaN</td>\n",
       "      <td>NaN</td>\n",
       "      <td>NaN</td>\n",
       "      <td>NaN</td>\n",
       "      <td>2011-2012</td>\n",
       "    </tr>\n",
       "    <tr>\n",
       "      <th>3</th>\n",
       "      <td>ARM</td>\n",
       "      <td>Armenia</td>\n",
       "      <td>ECA</td>\n",
       "      <td>EECA</td>\n",
       "      <td>Upper middle income (UM)</td>\n",
       "      <td>81.0</td>\n",
       "      <td>71.0</td>\n",
       "      <td>89.0</td>\n",
       "      <td>44.0</td>\n",
       "      <td>99.0</td>\n",
       "      <td>2015-2016</td>\n",
       "    </tr>\n",
       "    <tr>\n",
       "      <th>4</th>\n",
       "      <td>BGD</td>\n",
       "      <td>Bangladesh</td>\n",
       "      <td>SA</td>\n",
       "      <td>SA</td>\n",
       "      <td>Lower middle income (LM)</td>\n",
       "      <td>34.0</td>\n",
       "      <td>31.0</td>\n",
       "      <td>48.0</td>\n",
       "      <td>8.0</td>\n",
       "      <td>73.0</td>\n",
       "      <td>2019</td>\n",
       "    </tr>\n",
       "  </tbody>\n",
       "</table>\n",
       "</div>"
      ],
      "text/plain": [
       "  ISO3 Countries and areas Region Sub-region              Income Group Total  \\\n",
       "0  DZA             Algeria   MENA       MENA  Upper middle income (UM)  25.0   \n",
       "1  AGO              Angola    SSA        ESA  Lower middle income (LM)  19.0   \n",
       "2  ARG           Argentina    LAC        LAC  Upper middle income (UM)  43.0   \n",
       "3  ARM             Armenia    ECA       EECA  Upper middle income (UM)  81.0   \n",
       "4  BGD          Bangladesh     SA         SA  Lower middle income (LM)  34.0   \n",
       "\n",
       "  Residence (Rural) Residence (Urban) Wealth quintile (Poorest)  \\\n",
       "0              10.0              33.0                       1.0   \n",
       "1               2.0              27.0                       0.0   \n",
       "2               NaN               NaN                       NaN   \n",
       "3              71.0              89.0                      44.0   \n",
       "4              31.0              48.0                       8.0   \n",
       "\n",
       "  Wealth quintile (Richest) Time period  \n",
       "0                      78.0   2018-2019  \n",
       "1                      62.0   2015-2016  \n",
       "2                       NaN   2011-2012  \n",
       "3                      99.0   2015-2016  \n",
       "4                      73.0        2019  "
      ]
     },
     "execution_count": 12,
     "metadata": {},
     "output_type": "execute_result"
    }
   ],
   "source": [
    "# convert percentage strings to float\n",
    "df.iloc[:, 5:10] = df.iloc[:, 5:10].apply(lambda x: x.str.replace('%', '') if x.dtype == \"object\" else x)\n",
    "df.iloc[:, 5:10] = df.iloc[:, 5:10].astype(float)    \n",
    "df.head()"
   ]
  },
  {
   "cell_type": "code",
   "execution_count": 13,
   "metadata": {},
   "outputs": [
    {
     "data": {
      "text/plain": [
       "ISO3                         0\n",
       "Countries and areas          0\n",
       "Region                       0\n",
       "Sub-region                   0\n",
       "Income Group                 0\n",
       "Total                        0\n",
       "Residence (Rural)            5\n",
       "Residence (Urban)            4\n",
       "Wealth quintile (Poorest)    7\n",
       "Wealth quintile (Richest)    7\n",
       "Time period                  0\n",
       "dtype: int64"
      ]
     },
     "execution_count": 13,
     "metadata": {},
     "output_type": "execute_result"
    }
   ],
   "source": [
    "# columns with NaN values\n",
    "df.isnull().sum()"
   ]
  },
  {
   "cell_type": "code",
   "execution_count": 14,
   "metadata": {},
   "outputs": [
    {
     "name": "stdout",
     "output_type": "stream",
     "text": [
      "Residence (Rural)            0.956568\n",
      "Residence (Urban)            0.245451\n",
      "Wealth quintile (Poorest)    1.546006\n",
      "Wealth quintile (Richest)   -0.506014\n",
      "dtype: object\n"
     ]
    }
   ],
   "source": [
    "# get skewness values\n",
    "print(df[[\"Residence (Rural)\", \"Residence (Urban)\", \"Wealth quintile (Poorest)\", \"Wealth quintile (Richest)\"]].skew())"
   ]
  },
  {
   "cell_type": "code",
   "execution_count": 15,
   "metadata": {
    "editable": true,
    "slideshow": {
     "slide_type": ""
    },
    "tags": []
   },
   "outputs": [],
   "source": [
    "# get the mean values of each income group for columns with NaN values\n",
    "income_group_means = df.groupby(\"Income Group\")[[\"Residence (Rural)\", \"Residence (Urban)\", \"Wealth quintile (Richest)\"]].transform('mean')\n",
    "# median for Wealth quintile (Poorest) since skew is >1.5\n",
    "income_group_medians = df.groupby(\"Income Group\")[[\"Wealth quintile (Poorest)\"]].transform('median')"
   ]
  },
  {
   "cell_type": "code",
   "execution_count": 16,
   "metadata": {},
   "outputs": [
    {
     "ename": "NameError",
     "evalue": "name 'group_means' is not defined",
     "output_type": "error",
     "traceback": [
      "\u001b[0;31m---------------------------------------------------------------------------\u001b[0m",
      "\u001b[0;31mNameError\u001b[0m                                 Traceback (most recent call last)",
      "Cell \u001b[0;32mIn[16], line 1\u001b[0m\n\u001b[0;32m----> 1\u001b[0m \u001b[43mgroup_means\u001b[49m\u001b[38;5;241m.\u001b[39mhead()\n",
      "\u001b[0;31mNameError\u001b[0m: name 'group_means' is not defined"
     ]
    }
   ],
   "source": [
    "group_means.head()"
   ]
  },
  {
   "cell_type": "code",
   "execution_count": 17,
   "metadata": {},
   "outputs": [
    {
     "ename": "NameError",
     "evalue": "name 'group_medians' is not defined",
     "output_type": "error",
     "traceback": [
      "\u001b[0;31m---------------------------------------------------------------------------\u001b[0m",
      "\u001b[0;31mNameError\u001b[0m                                 Traceback (most recent call last)",
      "Cell \u001b[0;32mIn[17], line 1\u001b[0m\n\u001b[0;32m----> 1\u001b[0m \u001b[43mgroup_medians\u001b[49m\u001b[38;5;241m.\u001b[39mhead()\n",
      "\u001b[0;31mNameError\u001b[0m: name 'group_medians' is not defined"
     ]
    }
   ],
   "source": [
    "group_medians.head()"
   ]
  },
  {
   "cell_type": "code",
   "execution_count": null,
   "metadata": {},
   "outputs": [],
   "source": [
    "df[\"Residence (Rural)\"] = df[\"Residence (Rural)\"].fillna(income_group_means[\"Residence (Rural)\"])\n",
    "df[\"Residence (Urban)\"] = df[\"Residence (Urban)\"].fillna(income_group_means[\"Residence (Urban)\"])\n",
    "df[\"Wealth quintile (Richest)\"] = df[\"Wealth quintile (Richest)\"].fillna(income_group_means[\"Wealth quintile (Richest)\"])\n",
    "df[\"Wealth quintile (Poorest)\"] = df[\"Wealth quintile (Poorest)\"].fillna(income_group_medians[\"Wealth quintile (Poorest)\"])"
   ]
  },
  {
   "cell_type": "code",
   "execution_count": null,
   "metadata": {},
   "outputs": [],
   "source": [
    "df.isnull().sum()"
   ]
  },
  {
   "cell_type": "markdown",
   "metadata": {
    "id": "r-i5aIqXpPbu"
   },
   "source": [
    "# Task 2: Data Exploration"
   ]
  },
  {
   "cell_type": "markdown",
   "metadata": {
    "id": "QOY4K_neos9j"
   },
   "source": [
    "## Task 2.1 "
   ]
  },
  {
   "cell_type": "code",
   "execution_count": null,
   "metadata": {
    "id": "ziwtOfWJn-Eh"
   },
   "outputs": [],
   "source": [
    "# Code goes after this line by adding cells\n"
   ]
  },
  {
   "cell_type": "markdown",
   "metadata": {
    "id": "0-HLFaWTo7Gr"
   },
   "source": [
    "## Task 2.2 "
   ]
  },
  {
   "cell_type": "code",
   "execution_count": null,
   "metadata": {
    "id": "k3-8Pbi1n-Ei"
   },
   "outputs": [],
   "source": [
    "# Code goes after this line by adding cells\n"
   ]
  },
  {
   "cell_type": "markdown",
   "metadata": {
    "id": "jnasiwOAo_RP"
   },
   "source": [
    "## Task 2.3 "
   ]
  },
  {
   "cell_type": "code",
   "execution_count": null,
   "metadata": {
    "id": "hHsmCb2gn-Ei"
   },
   "outputs": [],
   "source": [
    "# Code goes after this line by adding cells\n"
   ]
  }
 ],
 "metadata": {
  "colab": {
   "collapsed_sections": [],
   "name": "assignment1_TEMPLATE.ipynb",
   "provenance": [],
   "toc_visible": true
  },
  "kernelspec": {
   "display_name": "Python 3 (ipykernel)",
   "language": "python",
   "name": "python3"
  },
  "language_info": {
   "codemirror_mode": {
    "name": "ipython",
    "version": 3
   },
   "file_extension": ".py",
   "mimetype": "text/x-python",
   "name": "python",
   "nbconvert_exporter": "python",
   "pygments_lexer": "ipython3",
   "version": "3.12.4"
  }
 },
 "nbformat": 4,
 "nbformat_minor": 4
}
