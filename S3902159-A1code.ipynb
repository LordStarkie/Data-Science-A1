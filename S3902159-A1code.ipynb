{
 "cells": [
  {
   "cell_type": "markdown",
   "metadata": {
    "editable": true,
    "id": "u-EEv9utoT69",
    "slideshow": {
     "slide_type": ""
    },
    "tags": []
   },
   "source": [
    "# Task 1: Data Preparation\n"
   ]
  },
  {
   "cell_type": "code",
   "execution_count": 1,
   "metadata": {
    "id": "RU9Pm6LKfToO"
   },
   "outputs": [],
   "source": [
    "import pandas as pd\n",
    "import numpy as np\n",
    "import matplotlib.pyplot as plt\n",
    "import seaborn as sns\n",
    "from IPython.core.interactiveshell import InteractiveShell\n",
    "\n",
    "InteractiveShell.ast_node_interactivity = \"all\"\n",
    "pd.set_option('future.no_silent_downcasting', True)"
   ]
  },
  {
   "cell_type": "code",
   "execution_count": 2,
   "metadata": {},
   "outputs": [],
   "source": [
    "# csv to dataframe \n",
    "df = pd.read_csv(\"A1data.csv\")"
   ]
  },
  {
   "cell_type": "code",
   "execution_count": 3,
   "metadata": {},
   "outputs": [
    {
     "name": "stdout",
     "output_type": "stream",
     "text": [
      "<class 'pandas.core.frame.DataFrame'>\n",
      "RangeIndex: 90 entries, 0 to 89\n",
      "Data columns (total 11 columns):\n",
      " #   Column                     Non-Null Count  Dtype \n",
      "---  ------                     --------------  ----- \n",
      " 0   ISO3                       90 non-null     object\n",
      " 1   Countries and areas        90 non-null     object\n",
      " 2   Region                     90 non-null     object\n",
      " 3   Sub-region                 90 non-null     object\n",
      " 4   Income Group               90 non-null     object\n",
      " 5   Total                      90 non-null     object\n",
      " 6   Residence (Rural)          85 non-null     object\n",
      " 7   Residence (Urban)          86 non-null     object\n",
      " 8   Wealth quintile (Poorest)  83 non-null     object\n",
      " 9   Wealth quintile (Richest)  83 non-null     object\n",
      " 10  Time period                90 non-null     object\n",
      "dtypes: object(11)\n",
      "memory usage: 7.9+ KB\n"
     ]
    }
   ],
   "source": [
    "# get data types\n",
    "df.info()"
   ]
  },
  {
   "cell_type": "code",
   "execution_count": 4,
   "metadata": {},
   "outputs": [
    {
     "name": "stdout",
     "output_type": "stream",
     "text": [
      "   ISO3 Countries and areas Region Sub-region              Income Group Total  \\\n",
      "30  GTM           Guatemala    LAC        LAC  Upper middle income (UM)   10%   \n",
      "75  TGO                Togo    SSA        WCA            Low income (L)   24%   \n",
      "76  TGO                Togo    SSA        WCA            Low income (L)   24%   \n",
      "\n",
      "   Residence (Rural) Residence (Urban) Wealth quintile (Poorest)  \\\n",
      "30                3%               20%                        0%   \n",
      "75                8%               49%                        0%   \n",
      "76                8%               49%                        0%   \n",
      "\n",
      "   Wealth quintile (Richest) Time period  \n",
      "30                       49%   2014-2015  \n",
      "75                       78%        2017  \n",
      "76                       78%        2017  \n"
     ]
    }
   ],
   "source": [
    "#find duplicate rows\n",
    "print(df[df.duplicated()])"
   ]
  },
  {
   "cell_type": "code",
   "execution_count": 5,
   "metadata": {},
   "outputs": [
    {
     "name": "stdout",
     "output_type": "stream",
     "text": [
      "Empty DataFrame\n",
      "Columns: [ISO3, Countries and areas, Region, Sub-region, Income Group, Total, Residence (Rural), Residence (Urban), Wealth quintile (Poorest), Wealth quintile (Richest), Time period]\n",
      "Index: []\n"
     ]
    }
   ],
   "source": [
    "# drop duplicates\n",
    "df.drop(index=[30,75,76], inplace=True)\n",
    "# confirm\n",
    "print(df[df.duplicated()])"
   ]
  },
  {
   "cell_type": "code",
   "execution_count": 6,
   "metadata": {},
   "outputs": [
    {
     "data": {
      "text/plain": [
       "Income Group\n",
       "Upper middle income (UM)     32\n",
       "Lower middle income (LM)     28\n",
       "Low income (L)               18\n",
       "High income (H)               7\n",
       "Lower middle income (LLM)     1\n",
       "Lower middle income (LMM)     1\n",
       "Name: count, dtype: int64"
      ]
     },
     "execution_count": 6,
     "metadata": {},
     "output_type": "execute_result"
    }
   ],
   "source": [
    "# finding structural error\n",
    "df[\"Income Group\"].value_counts()"
   ]
  },
  {
   "cell_type": "code",
   "execution_count": 7,
   "metadata": {},
   "outputs": [],
   "source": [
    "# replace with correct category\n",
    "df[\"Income Group\"] = df[\"Income Group\"].replace({\n",
    "    \"Lower middle income (LLM)\": \"Lower middle income (LM)\",\n",
    "    \"Lower middle income (LMM)\": \"Lower middle income (LM)\"\n",
    "})"
   ]
  },
  {
   "cell_type": "code",
   "execution_count": 8,
   "metadata": {},
   "outputs": [
    {
     "data": {
      "text/plain": [
       "Income Group\n",
       "Upper middle income (UM)    32\n",
       "Lower middle income (LM)    30\n",
       "Low income (L)              18\n",
       "High income (H)              7\n",
       "Name: count, dtype: int64"
      ]
     },
     "execution_count": 8,
     "metadata": {},
     "output_type": "execute_result"
    }
   ],
   "source": [
    "# confirm\n",
    "df[\"Income Group\"].value_counts()"
   ]
  },
  {
   "cell_type": "code",
   "execution_count": 9,
   "metadata": {},
   "outputs": [],
   "source": [
    "# convert percentage strings to float\n",
    "df.iloc[:, 5:10] = df.iloc[:, 5:10].apply(lambda x: x.str.replace('%', '') if x.dtype == \"object\" else x)\n",
    "df.iloc[:, 5:10] = df.iloc[:, 5:10].astype(float)"
   ]
  },
  {
   "cell_type": "code",
   "execution_count": 10,
   "metadata": {},
   "outputs": [
    {
     "data": {
      "text/plain": [
       "Time period\n",
       "2018         16\n",
       "2018-2019     9\n",
       "2019          9\n",
       "2017          8\n",
       "2013          6\n",
       "2012          5\n",
       "2017-2018     5\n",
       "2015          4\n",
       "2015-2016     4\n",
       "2014-2015     3\n",
       "2010          3\n",
       "2014          3\n",
       "2016          3\n",
       "2011-2012     3\n",
       "2016-2017     2\n",
       "2076          1\n",
       "3562          1\n",
       "2011          1\n",
       "2012-2099     1\n",
       "Name: count, dtype: int64"
      ]
     },
     "execution_count": 10,
     "metadata": {},
     "output_type": "execute_result"
    }
   ],
   "source": [
    "# finding impossible values\n",
    "df[\"Time period\"].value_counts()"
   ]
  },
  {
   "cell_type": "code",
   "execution_count": 11,
   "metadata": {},
   "outputs": [],
   "source": [
    "# remove impossible time periods\n",
    "df = df[(df[\"Time period\"] != '3562') & (df[\"Time period\"] != '2012-2099')]"
   ]
  },
  {
   "cell_type": "code",
   "execution_count": 12,
   "metadata": {},
   "outputs": [],
   "source": [
    "# remove impossible percentages\n",
    "df = df.drop(df[(df[\"Total\"] < 0) | (df[\"Total\"] > 100)].index)\n",
    "df = df.drop(df[(df[\"Residence (Rural)\"] < 0) | (df[\"Residence (Rural)\"] > 100)].index)\n",
    "df = df.drop(df[(df[\"Wealth quintile (Poorest)\"] < 0) | (df[\"Wealth quintile (Poorest)\"] > 100)].index)\n",
    "df = df.drop(df[(df[\"Wealth quintile (Richest)\"] < 0) | (df[\"Wealth quintile (Richest)\"] > 100)].index)\n",
    "\n",
    "df = df[df[\"Countries and areas\"] != \"Kenya\"]"
   ]
  },
  {
   "cell_type": "code",
   "execution_count": 13,
   "metadata": {},
   "outputs": [
    {
     "data": {
      "text/plain": [
       "ISO3                         0\n",
       "Countries and areas          0\n",
       "Region                       0\n",
       "Sub-region                   0\n",
       "Income Group                 0\n",
       "Total                        0\n",
       "Residence (Rural)            5\n",
       "Residence (Urban)            4\n",
       "Wealth quintile (Poorest)    7\n",
       "Wealth quintile (Richest)    7\n",
       "Time period                  0\n",
       "dtype: int64"
      ]
     },
     "execution_count": 13,
     "metadata": {},
     "output_type": "execute_result"
    }
   ],
   "source": [
    "# columns with NaN values\n",
    "df.isnull().sum()"
   ]
  },
  {
   "cell_type": "code",
   "execution_count": 14,
   "metadata": {},
   "outputs": [
    {
     "name": "stdout",
     "output_type": "stream",
     "text": [
      "Residence (Rural)            1.004273\n",
      "Residence (Urban)            0.280391\n",
      "Wealth quintile (Poorest)    1.599889\n",
      "Wealth quintile (Richest)   -0.490663\n",
      "dtype: object\n"
     ]
    }
   ],
   "source": [
    "# get skewness values\n",
    "print(df[[\"Residence (Rural)\", \"Residence (Urban)\", \"Wealth quintile (Poorest)\", \"Wealth quintile (Richest)\"]].skew())"
   ]
  },
  {
   "cell_type": "code",
   "execution_count": 15,
   "metadata": {
    "editable": true,
    "slideshow": {
     "slide_type": ""
    },
    "tags": []
   },
   "outputs": [],
   "source": [
    "# get the mean values of each income group for columns with NaN values, round to one decimal \n",
    "income_group_means = df.groupby(\"Income Group\")[[\"Residence (Rural)\", \"Residence (Urban)\", \"Wealth quintile (Richest)\"\n",
    "                                                ,\"Wealth quintile (Poorest)\"]].transform(lambda x: round(x.median(), 1))"
   ]
  },
  {
   "cell_type": "code",
   "execution_count": 16,
   "metadata": {},
   "outputs": [],
   "source": [
    "# replace Nan values with means/medians of that income group for the column\n",
    "df[\"Residence (Rural)\"] = df[\"Residence (Rural)\"].fillna(income_group_means[\"Residence (Rural)\"])\n",
    "df[\"Residence (Urban)\"] = df[\"Residence (Urban)\"].fillna(income_group_means[\"Residence (Urban)\"])\n",
    "df[\"Wealth quintile (Richest)\"] = df[\"Wealth quintile (Richest)\"].fillna(income_group_means[\"Wealth quintile (Richest)\"])\n",
    "df[\"Wealth quintile (Poorest)\"] = df[\"Wealth quintile (Poorest)\"].fillna(income_group_means[\"Wealth quintile (Poorest)\"])"
   ]
  },
  {
   "cell_type": "code",
   "execution_count": 17,
   "metadata": {},
   "outputs": [
    {
     "data": {
      "text/plain": [
       "ISO3                         0\n",
       "Countries and areas          0\n",
       "Region                       0\n",
       "Sub-region                   0\n",
       "Income Group                 0\n",
       "Total                        0\n",
       "Residence (Rural)            0\n",
       "Residence (Urban)            0\n",
       "Wealth quintile (Poorest)    0\n",
       "Wealth quintile (Richest)    0\n",
       "Time period                  0\n",
       "dtype: int64"
      ]
     },
     "execution_count": 17,
     "metadata": {},
     "output_type": "execute_result"
    }
   ],
   "source": [
    "# confirm no Nan values\n",
    "df.isnull().sum()"
   ]
  },
  {
   "cell_type": "code",
   "execution_count": 18,
   "metadata": {},
   "outputs": [],
   "source": [
    "# write to csv\n",
    "df.to_csv(\"S3902159-cleaned-A1data.csv\", index=False)"
   ]
  },
  {
   "cell_type": "markdown",
   "metadata": {
    "id": "r-i5aIqXpPbu"
   },
   "source": [
    "# Task 2: Data Exploration"
   ]
  },
  {
   "cell_type": "code",
   "execution_count": 19,
   "metadata": {},
   "outputs": [],
   "source": [
    "# cleaned csv to dataframe \n",
    "cleaned_df = pd.read_csv(\"S3902159-cleaned-A1data.csv\")"
   ]
  },
  {
   "cell_type": "code",
   "execution_count": 20,
   "metadata": {},
   "outputs": [
    {
     "name": "stdout",
     "output_type": "stream",
     "text": [
      "<class 'pandas.core.frame.DataFrame'>\n",
      "RangeIndex: 83 entries, 0 to 82\n",
      "Data columns (total 11 columns):\n",
      " #   Column                     Non-Null Count  Dtype  \n",
      "---  ------                     --------------  -----  \n",
      " 0   ISO3                       83 non-null     object \n",
      " 1   Countries and areas        83 non-null     object \n",
      " 2   Region                     83 non-null     object \n",
      " 3   Sub-region                 83 non-null     object \n",
      " 4   Income Group               83 non-null     object \n",
      " 5   Total                      83 non-null     float64\n",
      " 6   Residence (Rural)          83 non-null     float64\n",
      " 7   Residence (Urban)          83 non-null     float64\n",
      " 8   Wealth quintile (Poorest)  83 non-null     float64\n",
      " 9   Wealth quintile (Richest)  83 non-null     float64\n",
      " 10  Time period                83 non-null     object \n",
      "dtypes: float64(5), object(6)\n",
      "memory usage: 7.3+ KB\n"
     ]
    }
   ],
   "source": [
    "cleaned_df.info()"
   ]
  },
  {
   "cell_type": "markdown",
   "metadata": {
    "id": "QOY4K_neos9j"
   },
   "source": [
    "## Task 2.1 "
   ]
  },
  {
   "cell_type": "code",
   "execution_count": 21,
   "metadata": {
    "id": "ziwtOfWJn-Eh",
    "scrolled": true
   },
   "outputs": [
    {
     "name": "stdout",
     "output_type": "stream",
     "text": [
      "Region\n",
      "EAP     47.5\n",
      "ECA     77.5\n",
      "LAC     43.0\n",
      "MENA    33.0\n",
      "SA      39.0\n",
      "SSA      6.5\n",
      "Name: Total, dtype: float64\n"
     ]
    }
   ],
   "source": [
    "# group Total by Region with median\n",
    "median_total_by_region = cleaned_df.groupby(\"Region\")[\"Total\"].median()\n",
    "print(median_total_by_region)"
   ]
  },
  {
   "cell_type": "code",
   "execution_count": 31,
   "metadata": {},
   "outputs": [
    {
     "data": {
      "text/plain": [
       "<Figure size 1000x600 with 0 Axes>"
      ]
     },
     "execution_count": 31,
     "metadata": {},
     "output_type": "execute_result"
    },
    {
     "data": {
      "text/plain": [
       "Text(0.5, 1.0, 'Median Total Percentage of Children with Internet at Home')"
      ]
     },
     "execution_count": 31,
     "metadata": {},
     "output_type": "execute_result"
    },
    {
     "data": {
      "text/plain": [
       "Text(0.5, 0, 'Region')"
      ]
     },
     "execution_count": 31,
     "metadata": {},
     "output_type": "execute_result"
    },
    {
     "data": {
      "text/plain": [
       "Text(0, 0.5, 'Total Percentage')"
      ]
     },
     "execution_count": 31,
     "metadata": {},
     "output_type": "execute_result"
    },
    {
     "data": {
      "image/png": "[encoded data removed]",
      "text/plain": [
       "<Figure size 1000x600 with 1 Axes>"
      ]
     },
     "metadata": {},
     "output_type": "display_data"
    }
   ],
   "source": [
    "# make boxplot\n",
    "sns.set_theme(style=\"darkgrid\")\n",
    " \n",
    "plt.figure(figsize=(10, 6)) \n",
    "median_total_boxplot = sns.boxplot(x=\"Region\", y=\"Total\", data=cleaned_df, width=0.6)\n",
    "\n",
    "# title and text sizes\n",
    "median_total_boxplot.set_title(\"Median Total Percentage of Children with Internet at Home\", fontsize=11, fontweight='bold')\n",
    "median_total_boxplot.set_xlabel(\"Region\", fontsize=12)\n",
    "median_total_boxplot.set_ylabel(\"Total Percentage\", fontsize=12)\n",
    "median_total_boxplot.tick_params(axis='x', labelsize=12)  \n",
    "median_total_boxplot.tick_params(axis='y', labelsize=12)  "
   ]
  },
  {
   "cell_type": "markdown",
   "metadata": {
    "id": "0-HLFaWTo7Gr"
   },
   "source": [
    "## Task 2.2 "
   ]
  },
  {
   "cell_type": "code",
   "execution_count": 32,
   "metadata": {},
   "outputs": [
    {
     "name": "stdout",
     "output_type": "stream",
     "text": [
      "Wealth quintile (Poorest) Mean: 16.89\n",
      "Wealth quintile (Richest) Mean: 62.05\n"
     ]
    }
   ],
   "source": [
    "# mean for Wealth quintile (Poorest) and Wealth quintile (Richest)\n",
    "mean_poorest = cleaned_df[\"Wealth quintile (Poorest)\"].mean().round(2)\n",
    "mean_richest = cleaned_df[\"Wealth quintile (Richest)\"].mean().round(2)\n",
    "\n",
    "print(f\"Wealth quintile (Poorest) Mean: {mean_poorest}\")\n",
    "print(f\"Wealth quintile (Richest) Mean: {mean_richest}\")"
   ]
  },
  {
   "cell_type": "code",
   "execution_count": 24,
   "metadata": {},
   "outputs": [
    {
     "data": {
      "text/html": [
       "<div>\n",
       "<style scoped>\n",
       "    .dataframe tbody tr th:only-of-type {\n",
       "        vertical-align: middle;\n",
       "    }\n",
       "\n",
       "    .dataframe tbody tr th {\n",
       "        vertical-align: top;\n",
       "    }\n",
       "\n",
       "    .dataframe thead th {\n",
       "        text-align: right;\n",
       "    }\n",
       "</style>\n",
       "<table border=\"1\" class=\"dataframe\">\n",
       "  <thead>\n",
       "    <tr style=\"text-align: right;\">\n",
       "      <th></th>\n",
       "      <th>Countries and areas</th>\n",
       "      <th>Wealth quintile (Poorest)</th>\n",
       "    </tr>\n",
       "  </thead>\n",
       "  <tbody>\n",
       "    <tr>\n",
       "      <th>65</th>\n",
       "      <td>Somalia</td>\n",
       "      <td>100.0</td>\n",
       "    </tr>\n",
       "    <tr>\n",
       "      <th>9</th>\n",
       "      <td>Brazil</td>\n",
       "      <td>84.0</td>\n",
       "    </tr>\n",
       "    <tr>\n",
       "      <th>77</th>\n",
       "      <td>Tonga</td>\n",
       "      <td>83.0</td>\n",
       "    </tr>\n",
       "    <tr>\n",
       "      <th>15</th>\n",
       "      <td>Chile</td>\n",
       "      <td>75.0</td>\n",
       "    </tr>\n",
       "    <tr>\n",
       "      <th>68</th>\n",
       "      <td>Sri Lanka</td>\n",
       "      <td>71.0</td>\n",
       "    </tr>\n",
       "    <tr>\n",
       "      <th>73</th>\n",
       "      <td>North Macedonia</td>\n",
       "      <td>68.0</td>\n",
       "    </tr>\n",
       "    <tr>\n",
       "      <th>63</th>\n",
       "      <td>Serbia</td>\n",
       "      <td>65.0</td>\n",
       "    </tr>\n",
       "    <tr>\n",
       "      <th>36</th>\n",
       "      <td>Japan</td>\n",
       "      <td>64.0</td>\n",
       "    </tr>\n",
       "    <tr>\n",
       "      <th>40</th>\n",
       "      <td>Kyrgyzstan</td>\n",
       "      <td>56.0</td>\n",
       "    </tr>\n",
       "    <tr>\n",
       "      <th>49</th>\n",
       "      <td>Montenegro</td>\n",
       "      <td>55.0</td>\n",
       "    </tr>\n",
       "  </tbody>\n",
       "</table>\n",
       "</div>"
      ],
      "text/plain": [
       "   Countries and areas Wealth quintile (Poorest)\n",
       "65             Somalia                     100.0\n",
       "9               Brazil                      84.0\n",
       "77               Tonga                      83.0\n",
       "15               Chile                      75.0\n",
       "68           Sri Lanka                      71.0\n",
       "73     North Macedonia                      68.0\n",
       "63              Serbia                      65.0\n",
       "36               Japan                      64.0\n",
       "40          Kyrgyzstan                      56.0\n",
       "49          Montenegro                      55.0"
      ]
     },
     "execution_count": 24,
     "metadata": {},
     "output_type": "execute_result"
    },
    {
     "data": {
      "text/html": [
       "<div>\n",
       "<style scoped>\n",
       "    .dataframe tbody tr th:only-of-type {\n",
       "        vertical-align: middle;\n",
       "    }\n",
       "\n",
       "    .dataframe tbody tr th {\n",
       "        vertical-align: top;\n",
       "    }\n",
       "\n",
       "    .dataframe thead th {\n",
       "        text-align: right;\n",
       "    }\n",
       "</style>\n",
       "<table border=\"1\" class=\"dataframe\">\n",
       "  <thead>\n",
       "    <tr style=\"text-align: right;\">\n",
       "      <th></th>\n",
       "      <th>Countries and areas</th>\n",
       "      <th>Wealth quintile (Richest)</th>\n",
       "    </tr>\n",
       "  </thead>\n",
       "  <tbody>\n",
       "    <tr>\n",
       "      <th>10</th>\n",
       "      <td>Bulgaria</td>\n",
       "      <td>100.0</td>\n",
       "    </tr>\n",
       "    <tr>\n",
       "      <th>63</th>\n",
       "      <td>Serbia</td>\n",
       "      <td>100.0</td>\n",
       "    </tr>\n",
       "    <tr>\n",
       "      <th>65</th>\n",
       "      <td>Somalia</td>\n",
       "      <td>100.0</td>\n",
       "    </tr>\n",
       "    <tr>\n",
       "      <th>5</th>\n",
       "      <td>Barbados</td>\n",
       "      <td>100.0</td>\n",
       "    </tr>\n",
       "    <tr>\n",
       "      <th>73</th>\n",
       "      <td>North Macedonia</td>\n",
       "      <td>100.0</td>\n",
       "    </tr>\n",
       "    <tr>\n",
       "      <th>18</th>\n",
       "      <td>Costa Rica</td>\n",
       "      <td>99.0</td>\n",
       "    </tr>\n",
       "    <tr>\n",
       "      <th>15</th>\n",
       "      <td>Chile</td>\n",
       "      <td>99.0</td>\n",
       "    </tr>\n",
       "    <tr>\n",
       "      <th>17</th>\n",
       "      <td>Colombia</td>\n",
       "      <td>99.0</td>\n",
       "    </tr>\n",
       "    <tr>\n",
       "      <th>27</th>\n",
       "      <td>Georgia</td>\n",
       "      <td>99.0</td>\n",
       "    </tr>\n",
       "    <tr>\n",
       "      <th>68</th>\n",
       "      <td>Sri Lanka</td>\n",
       "      <td>99.0</td>\n",
       "    </tr>\n",
       "  </tbody>\n",
       "</table>\n",
       "</div>"
      ],
      "text/plain": [
       "   Countries and areas Wealth quintile (Richest)\n",
       "10            Bulgaria                     100.0\n",
       "63              Serbia                     100.0\n",
       "65             Somalia                     100.0\n",
       "5             Barbados                     100.0\n",
       "73     North Macedonia                     100.0\n",
       "18          Costa Rica                      99.0\n",
       "15               Chile                      99.0\n",
       "17            Colombia                      99.0\n",
       "27             Georgia                      99.0\n",
       "68           Sri Lanka                      99.0"
      ]
     },
     "execution_count": 24,
     "metadata": {},
     "output_type": "execute_result"
    }
   ],
   "source": [
    "# sort top 10 Wealth quintile (Poorest) and Wealth quintile (Richest) by Countries\n",
    "top_poorest = df.sort_values(by=\"Wealth quintile (Poorest)\", ascending=False).head(10)\n",
    "top_richest = df.sort_values(by=\"Wealth quintile (Richest)\", ascending=False).head(10)\n",
    "\n",
    "# show relevant columns for each df\n",
    "top_poorest[[\"Countries and areas\", \"Wealth quintile (Poorest)\"]]\n",
    "top_richest[[\"Countries and areas\",\"Wealth quintile (Richest)\"]]"
   ]
  },
  {
   "cell_type": "markdown",
   "metadata": {
    "id": "jnasiwOAo_RP"
   },
   "source": [
    "## Task 2.3 "
   ]
  },
  {
   "cell_type": "code",
   "execution_count": 25,
   "metadata": {
    "id": "hHsmCb2gn-Ei",
    "scrolled": true
   },
   "outputs": [],
   "source": [
    "# get Lower Middle Income group only\n",
    "lm_df = cleaned_df.loc[cleaned_df[\"Income Group\"] == \"Lower middle income (LM)\"]"
   ]
  },
  {
   "cell_type": "code",
   "execution_count": 26,
   "metadata": {
    "scrolled": true
   },
   "outputs": [
    {
     "data": {
      "text/html": [
       "<div>\n",
       "<style scoped>\n",
       "    .dataframe tbody tr th:only-of-type {\n",
       "        vertical-align: middle;\n",
       "    }\n",
       "\n",
       "    .dataframe tbody tr th {\n",
       "        vertical-align: top;\n",
       "    }\n",
       "\n",
       "    .dataframe thead th {\n",
       "        text-align: right;\n",
       "    }\n",
       "</style>\n",
       "<table border=\"1\" class=\"dataframe\">\n",
       "  <thead>\n",
       "    <tr style=\"text-align: right;\">\n",
       "      <th></th>\n",
       "      <th>Countries and areas</th>\n",
       "      <th>Region</th>\n",
       "      <th>Residence Type</th>\n",
       "      <th>Percentage</th>\n",
       "    </tr>\n",
       "  </thead>\n",
       "  <tbody>\n",
       "    <tr>\n",
       "      <th>0</th>\n",
       "      <td>Angola</td>\n",
       "      <td>SSA</td>\n",
       "      <td>Residence (Rural)</td>\n",
       "      <td>2.0</td>\n",
       "    </tr>\n",
       "    <tr>\n",
       "      <th>1</th>\n",
       "      <td>Bangladesh</td>\n",
       "      <td>SA</td>\n",
       "      <td>Residence (Rural)</td>\n",
       "      <td>31.0</td>\n",
       "    </tr>\n",
       "    <tr>\n",
       "      <th>2</th>\n",
       "      <td>Bolivia (Plurinational State of)</td>\n",
       "      <td>LAC</td>\n",
       "      <td>Residence (Rural)</td>\n",
       "      <td>3.0</td>\n",
       "    </tr>\n",
       "    <tr>\n",
       "      <th>3</th>\n",
       "      <td>Cameroon</td>\n",
       "      <td>SSA</td>\n",
       "      <td>Residence (Rural)</td>\n",
       "      <td>0.0</td>\n",
       "    </tr>\n",
       "    <tr>\n",
       "      <th>4</th>\n",
       "      <td>Cote d'Ivoire</td>\n",
       "      <td>SSA</td>\n",
       "      <td>Residence (Rural)</td>\n",
       "      <td>1.0</td>\n",
       "    </tr>\n",
       "    <tr>\n",
       "      <th>5</th>\n",
       "      <td>Djibouti</td>\n",
       "      <td>SSA</td>\n",
       "      <td>Residence (Rural)</td>\n",
       "      <td>2.0</td>\n",
       "    </tr>\n",
       "    <tr>\n",
       "      <th>6</th>\n",
       "      <td>Egypt</td>\n",
       "      <td>MENA</td>\n",
       "      <td>Residence (Rural)</td>\n",
       "      <td>9.0</td>\n",
       "    </tr>\n",
       "    <tr>\n",
       "      <th>7</th>\n",
       "      <td>Ghana</td>\n",
       "      <td>SSA</td>\n",
       "      <td>Residence (Rural)</td>\n",
       "      <td>10.0</td>\n",
       "    </tr>\n",
       "    <tr>\n",
       "      <th>8</th>\n",
       "      <td>India</td>\n",
       "      <td>SA</td>\n",
       "      <td>Residence (Rural)</td>\n",
       "      <td>5.0</td>\n",
       "    </tr>\n",
       "    <tr>\n",
       "      <th>9</th>\n",
       "      <td>Indonesia</td>\n",
       "      <td>EAP</td>\n",
       "      <td>Residence (Rural)</td>\n",
       "      <td>11.0</td>\n",
       "    </tr>\n",
       "    <tr>\n",
       "      <th>10</th>\n",
       "      <td>Kiribati</td>\n",
       "      <td>EAP</td>\n",
       "      <td>Residence (Rural)</td>\n",
       "      <td>34.0</td>\n",
       "    </tr>\n",
       "    <tr>\n",
       "      <th>11</th>\n",
       "      <td>Kyrgyzstan</td>\n",
       "      <td>ECA</td>\n",
       "      <td>Residence (Rural)</td>\n",
       "      <td>69.0</td>\n",
       "    </tr>\n",
       "    <tr>\n",
       "      <th>12</th>\n",
       "      <td>Lao People's Democratic Republic</td>\n",
       "      <td>EAP</td>\n",
       "      <td>Residence (Rural)</td>\n",
       "      <td>1.0</td>\n",
       "    </tr>\n",
       "    <tr>\n",
       "      <th>13</th>\n",
       "      <td>Lesotho</td>\n",
       "      <td>SSA</td>\n",
       "      <td>Residence (Rural)</td>\n",
       "      <td>21.0</td>\n",
       "    </tr>\n",
       "    <tr>\n",
       "      <th>14</th>\n",
       "      <td>Mauritania</td>\n",
       "      <td>SSA</td>\n",
       "      <td>Residence (Rural)</td>\n",
       "      <td>1.0</td>\n",
       "    </tr>\n",
       "    <tr>\n",
       "      <th>15</th>\n",
       "      <td>Mongolia</td>\n",
       "      <td>EAP</td>\n",
       "      <td>Residence (Rural)</td>\n",
       "      <td>10.0</td>\n",
       "    </tr>\n",
       "    <tr>\n",
       "      <th>16</th>\n",
       "      <td>Morocco</td>\n",
       "      <td>MENA</td>\n",
       "      <td>Residence (Rural)</td>\n",
       "      <td>12.0</td>\n",
       "    </tr>\n",
       "    <tr>\n",
       "      <th>17</th>\n",
       "      <td>Nicaragua</td>\n",
       "      <td>LAC</td>\n",
       "      <td>Residence (Rural)</td>\n",
       "      <td>2.0</td>\n",
       "    </tr>\n",
       "    <tr>\n",
       "      <th>18</th>\n",
       "      <td>Nigeria</td>\n",
       "      <td>SSA</td>\n",
       "      <td>Residence (Rural)</td>\n",
       "      <td>2.0</td>\n",
       "    </tr>\n",
       "    <tr>\n",
       "      <th>19</th>\n",
       "      <td>Pakistan</td>\n",
       "      <td>SA</td>\n",
       "      <td>Residence (Rural)</td>\n",
       "      <td>4.0</td>\n",
       "    </tr>\n",
       "    <tr>\n",
       "      <th>20</th>\n",
       "      <td>Sao Tome and Principe</td>\n",
       "      <td>SSA</td>\n",
       "      <td>Residence (Rural)</td>\n",
       "      <td>37.0</td>\n",
       "    </tr>\n",
       "    <tr>\n",
       "      <th>21</th>\n",
       "      <td>Senegal</td>\n",
       "      <td>SSA</td>\n",
       "      <td>Residence (Rural)</td>\n",
       "      <td>3.0</td>\n",
       "    </tr>\n",
       "    <tr>\n",
       "      <th>22</th>\n",
       "      <td>Sudan</td>\n",
       "      <td>SSA</td>\n",
       "      <td>Residence (Rural)</td>\n",
       "      <td>1.0</td>\n",
       "    </tr>\n",
       "    <tr>\n",
       "      <th>23</th>\n",
       "      <td>Tunisia</td>\n",
       "      <td>MENA</td>\n",
       "      <td>Residence (Rural)</td>\n",
       "      <td>22.0</td>\n",
       "    </tr>\n",
       "    <tr>\n",
       "      <th>24</th>\n",
       "      <td>Ukraine</td>\n",
       "      <td>ECA</td>\n",
       "      <td>Residence (Rural)</td>\n",
       "      <td>7.0</td>\n",
       "    </tr>\n",
       "    <tr>\n",
       "      <th>25</th>\n",
       "      <td>Uzbekistan</td>\n",
       "      <td>ECA</td>\n",
       "      <td>Residence (Rural)</td>\n",
       "      <td>14.0</td>\n",
       "    </tr>\n",
       "    <tr>\n",
       "      <th>26</th>\n",
       "      <td>Viet Nam</td>\n",
       "      <td>EAP</td>\n",
       "      <td>Residence (Rural)</td>\n",
       "      <td>17.0</td>\n",
       "    </tr>\n",
       "    <tr>\n",
       "      <th>27</th>\n",
       "      <td>Zambia</td>\n",
       "      <td>SSA</td>\n",
       "      <td>Residence (Rural)</td>\n",
       "      <td>2.0</td>\n",
       "    </tr>\n",
       "    <tr>\n",
       "      <th>28</th>\n",
       "      <td>Zimbabwe</td>\n",
       "      <td>SSA</td>\n",
       "      <td>Residence (Rural)</td>\n",
       "      <td>17.0</td>\n",
       "    </tr>\n",
       "    <tr>\n",
       "      <th>29</th>\n",
       "      <td>Angola</td>\n",
       "      <td>SSA</td>\n",
       "      <td>Residence (Urban)</td>\n",
       "      <td>27.0</td>\n",
       "    </tr>\n",
       "    <tr>\n",
       "      <th>30</th>\n",
       "      <td>Bangladesh</td>\n",
       "      <td>SA</td>\n",
       "      <td>Residence (Urban)</td>\n",
       "      <td>48.0</td>\n",
       "    </tr>\n",
       "    <tr>\n",
       "      <th>31</th>\n",
       "      <td>Bolivia (Plurinational State of)</td>\n",
       "      <td>LAC</td>\n",
       "      <td>Residence (Urban)</td>\n",
       "      <td>17.0</td>\n",
       "    </tr>\n",
       "    <tr>\n",
       "      <th>32</th>\n",
       "      <td>Cameroon</td>\n",
       "      <td>SSA</td>\n",
       "      <td>Residence (Urban)</td>\n",
       "      <td>10.0</td>\n",
       "    </tr>\n",
       "    <tr>\n",
       "      <th>33</th>\n",
       "      <td>Cote d'Ivoire</td>\n",
       "      <td>SSA</td>\n",
       "      <td>Residence (Urban)</td>\n",
       "      <td>7.0</td>\n",
       "    </tr>\n",
       "    <tr>\n",
       "      <th>34</th>\n",
       "      <td>Djibouti</td>\n",
       "      <td>SSA</td>\n",
       "      <td>Residence (Urban)</td>\n",
       "      <td>11.0</td>\n",
       "    </tr>\n",
       "    <tr>\n",
       "      <th>35</th>\n",
       "      <td>Egypt</td>\n",
       "      <td>MENA</td>\n",
       "      <td>Residence (Urban)</td>\n",
       "      <td>32.0</td>\n",
       "    </tr>\n",
       "    <tr>\n",
       "      <th>36</th>\n",
       "      <td>Ghana</td>\n",
       "      <td>SSA</td>\n",
       "      <td>Residence (Urban)</td>\n",
       "      <td>25.0</td>\n",
       "    </tr>\n",
       "    <tr>\n",
       "      <th>37</th>\n",
       "      <td>India</td>\n",
       "      <td>SA</td>\n",
       "      <td>Residence (Urban)</td>\n",
       "      <td>16.0</td>\n",
       "    </tr>\n",
       "    <tr>\n",
       "      <th>38</th>\n",
       "      <td>Indonesia</td>\n",
       "      <td>EAP</td>\n",
       "      <td>Residence (Urban)</td>\n",
       "      <td>28.0</td>\n",
       "    </tr>\n",
       "    <tr>\n",
       "      <th>39</th>\n",
       "      <td>Kiribati</td>\n",
       "      <td>EAP</td>\n",
       "      <td>Residence (Urban)</td>\n",
       "      <td>68.0</td>\n",
       "    </tr>\n",
       "    <tr>\n",
       "      <th>40</th>\n",
       "      <td>Kyrgyzstan</td>\n",
       "      <td>ECA</td>\n",
       "      <td>Residence (Urban)</td>\n",
       "      <td>84.0</td>\n",
       "    </tr>\n",
       "    <tr>\n",
       "      <th>41</th>\n",
       "      <td>Lao People's Democratic Republic</td>\n",
       "      <td>EAP</td>\n",
       "      <td>Residence (Urban)</td>\n",
       "      <td>3.0</td>\n",
       "    </tr>\n",
       "    <tr>\n",
       "      <th>42</th>\n",
       "      <td>Lesotho</td>\n",
       "      <td>SSA</td>\n",
       "      <td>Residence (Urban)</td>\n",
       "      <td>54.0</td>\n",
       "    </tr>\n",
       "    <tr>\n",
       "      <th>43</th>\n",
       "      <td>Mauritania</td>\n",
       "      <td>SSA</td>\n",
       "      <td>Residence (Urban)</td>\n",
       "      <td>6.0</td>\n",
       "    </tr>\n",
       "    <tr>\n",
       "      <th>44</th>\n",
       "      <td>Mongolia</td>\n",
       "      <td>EAP</td>\n",
       "      <td>Residence (Urban)</td>\n",
       "      <td>45.0</td>\n",
       "    </tr>\n",
       "    <tr>\n",
       "      <th>45</th>\n",
       "      <td>Morocco</td>\n",
       "      <td>MENA</td>\n",
       "      <td>Residence (Urban)</td>\n",
       "      <td>26.0</td>\n",
       "    </tr>\n",
       "    <tr>\n",
       "      <th>46</th>\n",
       "      <td>Nicaragua</td>\n",
       "      <td>LAC</td>\n",
       "      <td>Residence (Urban)</td>\n",
       "      <td>6.0</td>\n",
       "    </tr>\n",
       "    <tr>\n",
       "      <th>47</th>\n",
       "      <td>Nigeria</td>\n",
       "      <td>SSA</td>\n",
       "      <td>Residence (Urban)</td>\n",
       "      <td>8.0</td>\n",
       "    </tr>\n",
       "    <tr>\n",
       "      <th>48</th>\n",
       "      <td>Pakistan</td>\n",
       "      <td>SA</td>\n",
       "      <td>Residence (Urban)</td>\n",
       "      <td>20.0</td>\n",
       "    </tr>\n",
       "    <tr>\n",
       "      <th>49</th>\n",
       "      <td>Sao Tome and Principe</td>\n",
       "      <td>SSA</td>\n",
       "      <td>Residence (Urban)</td>\n",
       "      <td>50.0</td>\n",
       "    </tr>\n",
       "    <tr>\n",
       "      <th>50</th>\n",
       "      <td>Senegal</td>\n",
       "      <td>SSA</td>\n",
       "      <td>Residence (Urban)</td>\n",
       "      <td>11.0</td>\n",
       "    </tr>\n",
       "    <tr>\n",
       "      <th>51</th>\n",
       "      <td>Sudan</td>\n",
       "      <td>SSA</td>\n",
       "      <td>Residence (Urban)</td>\n",
       "      <td>9.0</td>\n",
       "    </tr>\n",
       "    <tr>\n",
       "      <th>52</th>\n",
       "      <td>Tunisia</td>\n",
       "      <td>MENA</td>\n",
       "      <td>Residence (Urban)</td>\n",
       "      <td>50.0</td>\n",
       "    </tr>\n",
       "    <tr>\n",
       "      <th>53</th>\n",
       "      <td>Ukraine</td>\n",
       "      <td>ECA</td>\n",
       "      <td>Residence (Urban)</td>\n",
       "      <td>66.0</td>\n",
       "    </tr>\n",
       "    <tr>\n",
       "      <th>54</th>\n",
       "      <td>Uzbekistan</td>\n",
       "      <td>ECA</td>\n",
       "      <td>Residence (Urban)</td>\n",
       "      <td>31.0</td>\n",
       "    </tr>\n",
       "    <tr>\n",
       "      <th>55</th>\n",
       "      <td>Viet Nam</td>\n",
       "      <td>EAP</td>\n",
       "      <td>Residence (Urban)</td>\n",
       "      <td>62.0</td>\n",
       "    </tr>\n",
       "    <tr>\n",
       "      <th>56</th>\n",
       "      <td>Zambia</td>\n",
       "      <td>SSA</td>\n",
       "      <td>Residence (Urban)</td>\n",
       "      <td>16.0</td>\n",
       "    </tr>\n",
       "    <tr>\n",
       "      <th>57</th>\n",
       "      <td>Zimbabwe</td>\n",
       "      <td>SSA</td>\n",
       "      <td>Residence (Urban)</td>\n",
       "      <td>50.0</td>\n",
       "    </tr>\n",
       "  </tbody>\n",
       "</table>\n",
       "</div>"
      ],
      "text/plain": [
       "                 Countries and areas Region     Residence Type  Percentage\n",
       "0                             Angola    SSA  Residence (Rural)         2.0\n",
       "1                         Bangladesh     SA  Residence (Rural)        31.0\n",
       "2   Bolivia (Plurinational State of)    LAC  Residence (Rural)         3.0\n",
       "3                           Cameroon    SSA  Residence (Rural)         0.0\n",
       "4                      Cote d'Ivoire    SSA  Residence (Rural)         1.0\n",
       "5                           Djibouti    SSA  Residence (Rural)         2.0\n",
       "6                              Egypt   MENA  Residence (Rural)         9.0\n",
       "7                              Ghana    SSA  Residence (Rural)        10.0\n",
       "8                              India     SA  Residence (Rural)         5.0\n",
       "9                          Indonesia    EAP  Residence (Rural)        11.0\n",
       "10                          Kiribati    EAP  Residence (Rural)        34.0\n",
       "11                        Kyrgyzstan    ECA  Residence (Rural)        69.0\n",
       "12  Lao People's Democratic Republic    EAP  Residence (Rural)         1.0\n",
       "13                           Lesotho    SSA  Residence (Rural)        21.0\n",
       "14                        Mauritania    SSA  Residence (Rural)         1.0\n",
       "15                          Mongolia    EAP  Residence (Rural)        10.0\n",
       "16                           Morocco   MENA  Residence (Rural)        12.0\n",
       "17                         Nicaragua    LAC  Residence (Rural)         2.0\n",
       "18                           Nigeria    SSA  Residence (Rural)         2.0\n",
       "19                          Pakistan     SA  Residence (Rural)         4.0\n",
       "20             Sao Tome and Principe    SSA  Residence (Rural)        37.0\n",
       "21                           Senegal    SSA  Residence (Rural)         3.0\n",
       "22                             Sudan    SSA  Residence (Rural)         1.0\n",
       "23                           Tunisia   MENA  Residence (Rural)        22.0\n",
       "24                           Ukraine    ECA  Residence (Rural)         7.0\n",
       "25                        Uzbekistan    ECA  Residence (Rural)        14.0\n",
       "26                          Viet Nam    EAP  Residence (Rural)        17.0\n",
       "27                            Zambia    SSA  Residence (Rural)         2.0\n",
       "28                          Zimbabwe    SSA  Residence (Rural)        17.0\n",
       "29                            Angola    SSA  Residence (Urban)        27.0\n",
       "30                        Bangladesh     SA  Residence (Urban)        48.0\n",
       "31  Bolivia (Plurinational State of)    LAC  Residence (Urban)        17.0\n",
       "32                          Cameroon    SSA  Residence (Urban)        10.0\n",
       "33                     Cote d'Ivoire    SSA  Residence (Urban)         7.0\n",
       "34                          Djibouti    SSA  Residence (Urban)        11.0\n",
       "35                             Egypt   MENA  Residence (Urban)        32.0\n",
       "36                             Ghana    SSA  Residence (Urban)        25.0\n",
       "37                             India     SA  Residence (Urban)        16.0\n",
       "38                         Indonesia    EAP  Residence (Urban)        28.0\n",
       "39                          Kiribati    EAP  Residence (Urban)        68.0\n",
       "40                        Kyrgyzstan    ECA  Residence (Urban)        84.0\n",
       "41  Lao People's Democratic Republic    EAP  Residence (Urban)         3.0\n",
       "42                           Lesotho    SSA  Residence (Urban)        54.0\n",
       "43                        Mauritania    SSA  Residence (Urban)         6.0\n",
       "44                          Mongolia    EAP  Residence (Urban)        45.0\n",
       "45                           Morocco   MENA  Residence (Urban)        26.0\n",
       "46                         Nicaragua    LAC  Residence (Urban)         6.0\n",
       "47                           Nigeria    SSA  Residence (Urban)         8.0\n",
       "48                          Pakistan     SA  Residence (Urban)        20.0\n",
       "49             Sao Tome and Principe    SSA  Residence (Urban)        50.0\n",
       "50                           Senegal    SSA  Residence (Urban)        11.0\n",
       "51                             Sudan    SSA  Residence (Urban)         9.0\n",
       "52                           Tunisia   MENA  Residence (Urban)        50.0\n",
       "53                           Ukraine    ECA  Residence (Urban)        66.0\n",
       "54                        Uzbekistan    ECA  Residence (Urban)        31.0\n",
       "55                          Viet Nam    EAP  Residence (Urban)        62.0\n",
       "56                            Zambia    SSA  Residence (Urban)        16.0\n",
       "57                          Zimbabwe    SSA  Residence (Urban)        50.0"
      ]
     },
     "execution_count": 26,
     "metadata": {},
     "output_type": "execute_result"
    }
   ],
   "source": [
    "# categorise countries into residence types\n",
    "melted_lm = pd.melt(lm_df, id_vars=[\"Countries and areas\" , \"Region\"], \n",
    "                      value_vars=[\"Residence (Rural)\", \"Residence (Urban)\"],\n",
    "                      var_name=\"Residence Type\", value_name=\"Percentage\")\n",
    "melted_lm"
   ]
  },
  {
   "cell_type": "code",
   "execution_count": 27,
   "metadata": {},
   "outputs": [
    {
     "name": "stdout",
     "output_type": "stream",
     "text": [
      "Residence (Rural) IQL: 15.0\n",
      "Residence (Urban) IQL: 39.0\n"
     ]
    },
    {
     "data": {
      "text/plain": [
       "<Figure size 500x600 with 0 Axes>"
      ]
     },
     "execution_count": 27,
     "metadata": {},
     "output_type": "execute_result"
    },
    {
     "data": {
      "text/plain": [
       "Text(0.5, 1.0, 'Total Percentage of Rural and Urban Residences with Internet Access')"
      ]
     },
     "execution_count": 27,
     "metadata": {},
     "output_type": "execute_result"
    },
    {
     "data": {
      "text/plain": [
       "Text(0.5, 0, 'Residence Type')"
      ]
     },
     "execution_count": 27,
     "metadata": {},
     "output_type": "execute_result"
    },
    {
     "data": {
      "text/plain": [
       "Text(0, 0.5, 'Total Percentage')"
      ]
     },
     "execution_count": 27,
     "metadata": {},
     "output_type": "execute_result"
    },
    {
     "data": {
      "image/png": "[encoded data removed]",
      "text/plain": [
       "<Figure size 500x600 with 1 Axes>"
      ]
     },
     "metadata": {},
     "output_type": "display_data"
    }
   ],
   "source": [
    "# calculate q1 and q3 \n",
    "q1_rural = lm_df['Residence (Rural)'].quantile(0.25)\n",
    "q3_rural = lm_df['Residence (Rural)'].quantile(0.75)\n",
    "q1_urban = lm_df['Residence (Urban)'].quantile(0.25)\n",
    "q3_urban = lm_df['Residence (Urban)'].quantile(0.75)\n",
    "\n",
    "# calculate IQR\n",
    "iqr_rural = q3_rural - q1_rural\n",
    "iqr_urban = q3_urban - q1_urban\n",
    "\n",
    "print(f\"Residence (Rural) IQL: {iqr_rural}\")\n",
    "print(f\"Residence (Urban) IQL: {iqr_urban}\")\n",
    "\n",
    "# make boxplot\n",
    "sns.set_theme(style=\"darkgrid\")\n",
    " \n",
    "plt.figure(figsize=(5, 6)) \n",
    "median_total_boxplot = sns.boxplot(x=\"Residence Type\", y=\"Percentage\", data=melted_lm, width=0.6)\n",
    "\n",
    "# title and text sizes\n",
    "median_total_boxplot.set_title(\"Total Percentage of Rural and Urban Residences with Internet Access\", fontsize=11, fontweight='bold')\n",
    "median_total_boxplot.set_xlabel(\"Residence Type\", fontsize=12)\n",
    "median_total_boxplot.set_ylabel(\"Total Percentage\", fontsize=12)\n",
    "median_total_boxplot.tick_params(axis='x', labelsize=12)  \n",
    "median_total_boxplot.tick_params(axis='y', labelsize=12)  "
   ]
  },
  {
   "cell_type": "code",
   "execution_count": 28,
   "metadata": {},
   "outputs": [
    {
     "data": {
      "text/html": [
       "<div>\n",
       "<style scoped>\n",
       "    .dataframe tbody tr th:only-of-type {\n",
       "        vertical-align: middle;\n",
       "    }\n",
       "\n",
       "    .dataframe tbody tr th {\n",
       "        vertical-align: top;\n",
       "    }\n",
       "\n",
       "    .dataframe thead th {\n",
       "        text-align: right;\n",
       "    }\n",
       "</style>\n",
       "<table border=\"1\" class=\"dataframe\">\n",
       "  <thead>\n",
       "    <tr style=\"text-align: right;\">\n",
       "      <th></th>\n",
       "      <th>Residence (Rural)</th>\n",
       "      <th>Residence (Urban)</th>\n",
       "    </tr>\n",
       "    <tr>\n",
       "      <th>Region</th>\n",
       "      <th></th>\n",
       "      <th></th>\n",
       "    </tr>\n",
       "  </thead>\n",
       "  <tbody>\n",
       "    <tr>\n",
       "      <th>EAP</th>\n",
       "      <td>14.60</td>\n",
       "      <td>41.20</td>\n",
       "    </tr>\n",
       "    <tr>\n",
       "      <th>ECA</th>\n",
       "      <td>30.00</td>\n",
       "      <td>60.33</td>\n",
       "    </tr>\n",
       "    <tr>\n",
       "      <th>LAC</th>\n",
       "      <td>2.50</td>\n",
       "      <td>11.50</td>\n",
       "    </tr>\n",
       "    <tr>\n",
       "      <th>MENA</th>\n",
       "      <td>14.33</td>\n",
       "      <td>36.00</td>\n",
       "    </tr>\n",
       "    <tr>\n",
       "      <th>SA</th>\n",
       "      <td>13.33</td>\n",
       "      <td>28.00</td>\n",
       "    </tr>\n",
       "    <tr>\n",
       "      <th>SSA</th>\n",
       "      <td>7.62</td>\n",
       "      <td>21.85</td>\n",
       "    </tr>\n",
       "  </tbody>\n",
       "</table>\n",
       "</div>"
      ],
      "text/plain": [
       "        Residence (Rural)  Residence (Urban)\n",
       "Region                                      \n",
       "EAP                 14.60              41.20\n",
       "ECA                 30.00              60.33\n",
       "LAC                  2.50              11.50\n",
       "MENA                14.33              36.00\n",
       "SA                  13.33              28.00\n",
       "SSA                  7.62              21.85"
      ]
     },
     "execution_count": 28,
     "metadata": {},
     "output_type": "execute_result"
    },
    {
     "data": {
      "text/plain": [
       "Text(0.5, 1.0, 'Means of Rural and Urban Residents with Internet Access by Region')"
      ]
     },
     "execution_count": 28,
     "metadata": {},
     "output_type": "execute_result"
    },
    {
     "data": {
      "image/png": "[encoded data removed]",
      "text/plain": [
       "<Figure size 640x480 with 1 Axes>"
      ]
     },
     "metadata": {},
     "output_type": "display_data"
    }
   ],
   "source": [
    "# mean Residence (Rural/Urban) percentage for each region\n",
    "group_by_region_lm = lm_df.groupby(\"Region\")[[\"Residence (Rural)\", \"Residence (Urban)\"]].mean().round(2)\n",
    "group_by_region_lm\n",
    "\n",
    "# create bar plot\n",
    "region_residence_boxplot = group_by_region_lm.plot.bar()\n",
    "region_residence_boxplot.set_title(\"Means of Rural and Urban Residents with Internet Access by Region\", fontsize=11, fontweight='bold')"
   ]
  },
  {
   "cell_type": "code",
   "execution_count": 29,
   "metadata": {},
   "outputs": [
    {
     "name": "stdout",
     "output_type": "stream",
     "text": [
      "Residence (Rural) kurtosis: 6.33\n",
      "Residence (Urban) kurtosis: -0.54\n"
     ]
    },
    {
     "data": {
      "text/plain": [
       "<Figure size 1200x600 with 0 Axes>"
      ]
     },
     "execution_count": 29,
     "metadata": {},
     "output_type": "execute_result"
    },
    {
     "data": {
      "text/plain": [
       "<Axes: >"
      ]
     },
     "execution_count": 29,
     "metadata": {},
     "output_type": "execute_result"
    },
    {
     "data": {
      "text/plain": [
       "<Axes: xlabel='Residence (Rural)', ylabel='Count'>"
      ]
     },
     "execution_count": 29,
     "metadata": {},
     "output_type": "execute_result"
    },
    {
     "data": {
      "text/plain": [
       "Text(0.5, 1.0, 'Distribution of Residence (Rural) with KDE')"
      ]
     },
     "execution_count": 29,
     "metadata": {},
     "output_type": "execute_result"
    },
    {
     "data": {
      "text/plain": [
       "Text(0.5, 0, 'Percentage of Internet Access')"
      ]
     },
     "execution_count": 29,
     "metadata": {},
     "output_type": "execute_result"
    },
    {
     "data": {
      "text/plain": [
       "Text(0, 0.5, 'Frequency')"
      ]
     },
     "execution_count": 29,
     "metadata": {},
     "output_type": "execute_result"
    },
    {
     "data": {
      "text/plain": [
       "<matplotlib.lines.Line2D at 0x13fc239d0>"
      ]
     },
     "execution_count": 29,
     "metadata": {},
     "output_type": "execute_result"
    },
    {
     "data": {
      "text/plain": [
       "<matplotlib.legend.Legend at 0x13fedf9d0>"
      ]
     },
     "execution_count": 29,
     "metadata": {},
     "output_type": "execute_result"
    },
    {
     "data": {
      "text/plain": [
       "<Axes: >"
      ]
     },
     "execution_count": 29,
     "metadata": {},
     "output_type": "execute_result"
    },
    {
     "data": {
      "text/plain": [
       "<Axes: xlabel='Residence (Urban)', ylabel='Count'>"
      ]
     },
     "execution_count": 29,
     "metadata": {},
     "output_type": "execute_result"
    },
    {
     "data": {
      "text/plain": [
       "Text(0.5, 1.0, 'Distribution of Residence (Urban) with KDE')"
      ]
     },
     "execution_count": 29,
     "metadata": {},
     "output_type": "execute_result"
    },
    {
     "data": {
      "text/plain": [
       "Text(0.5, 0, 'Percentage of Internet Access')"
      ]
     },
     "execution_count": 29,
     "metadata": {},
     "output_type": "execute_result"
    },
    {
     "data": {
      "text/plain": [
       "Text(0, 0.5, 'Frequency')"
      ]
     },
     "execution_count": 29,
     "metadata": {},
     "output_type": "execute_result"
    },
    {
     "data": {
      "text/plain": [
       "<matplotlib.lines.Line2D at 0x14e84ec10>"
      ]
     },
     "execution_count": 29,
     "metadata": {},
     "output_type": "execute_result"
    },
    {
     "data": {
      "text/plain": [
       "<matplotlib.legend.Legend at 0x14e82f3d0>"
      ]
     },
     "execution_count": 29,
     "metadata": {},
     "output_type": "execute_result"
    },
    {
     "data": {
      "image/png": "[encoded data removed]",
      "text/plain": [
       "<Figure size 1200x600 with 2 Axes>"
      ]
     },
     "metadata": {},
     "output_type": "display_data"
    }
   ],
   "source": [
    "# calulate kurtosis\n",
    "kurtosis_rural = lm_df['Residence (Rural)'].kurt().round(2)\n",
    "kurtosis_urban = lm_df['Residence (Urban)'].kurt().round(2)\n",
    "\n",
    "print(f\"Residence (Rural) kurtosis: {kurtosis_rural}\")\n",
    "print(f\"Residence (Urban) kurtosis: {kurtosis_urban}\")\n",
    "\n",
    "# calculatge mean for two categories\n",
    "mean_rural = lm_df[\"Residence (Rural)\"].mean().round(2)\n",
    "mean_urban = lm_df[\"Residence (Urban)\"].mean().round(2)\n",
    "\n",
    "# make historgram with KDE for Residence (Rural/Urban)\n",
    "plt.figure(figsize=(12, 6))\n",
    "\n",
    "plt.subplot(1, 2, 1)\n",
    "sns.histplot(lm_df[\"Residence (Rural)\"], kde=True, color=\"red\")\n",
    "plt.title(\"Distribution of Residence (Rural) with KDE\")\n",
    "plt.xlabel(\"Percentage of Internet Access\")\n",
    "plt.ylabel(\"Frequency\")\n",
    "# draw line where mean is \n",
    "plt.axvline(x = mean_rural, color = \"blue\", label = f\"Mean: {mean_rural}\")\n",
    "plt.legend()\n",
    "\n",
    "plt.subplot(1, 2, 2)\n",
    "sns.histplot(lm_df[\"Residence (Urban)\"], kde=True, color=\"green\")\n",
    "plt.title(\"Distribution of Residence (Urban) with KDE\")\n",
    "plt.xlabel(\"Percentage of Internet Access\")\n",
    "plt.ylabel(\"Frequency\")\n",
    "# draw line where mean is \n",
    "plt.axvline(x = mean_urban, color = \"blue\", label = f\"Mean: {mean_urban}\")\n",
    "plt.legend()"
   ]
  }
 ],
 "metadata": {
  "colab": {
   "collapsed_sections": [],
   "name": "assignment1_TEMPLATE.ipynb",
   "provenance": [],
   "toc_visible": true
  },
  "kernelspec": {
   "display_name": "Python 3 (ipykernel)",
   "language": "python",
   "name": "python3"
  },
  "language_info": {
   "codemirror_mode": {
    "name": "ipython",
    "version": 3
   },
   "file_extension": ".py",
   "mimetype": "text/x-python",
   "name": "python",
   "nbconvert_exporter": "python",
   "pygments_lexer": "ipython3",
   "version": "3.11.4"
  }
 },
 "nbformat": 4,
 "nbformat_minor": 4
}
