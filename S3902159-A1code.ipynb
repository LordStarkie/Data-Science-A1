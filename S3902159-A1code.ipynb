{
 "cells": [
  {
   "cell_type": "markdown",
   "metadata": {
    "editable": true,
    "id": "u-EEv9utoT69",
    "slideshow": {
     "slide_type": ""
    },
    "tags": []
   },
   "source": [
    "# Task 1: Data Preparation\n"
   ]
  },
  {
   "cell_type": "code",
   "execution_count": 293,
   "metadata": {
    "id": "RU9Pm6LKfToO"
   },
   "outputs": [],
   "source": [
    "import pandas as pd\n",
    "import numpy as np\n",
    "import matplotlib as plt\n",
    "import seaborn as sns\n",
    "\n",
    "pd.set_option('future.no_silent_downcasting', True)"
   ]
  },
  {
   "cell_type": "code",
   "execution_count": 294,
   "metadata": {},
   "outputs": [],
   "source": [
    "# csv to dataframe \n",
    "df = pd.read_csv(\"A1data.csv\")"
   ]
  },
  {
   "cell_type": "code",
   "execution_count": 295,
   "metadata": {},
   "outputs": [
    {
     "name": "stdout",
     "output_type": "stream",
     "text": [
      "<class 'pandas.core.frame.DataFrame'>\n",
      "RangeIndex: 90 entries, 0 to 89\n",
      "Data columns (total 11 columns):\n",
      " #   Column                     Non-Null Count  Dtype \n",
      "---  ------                     --------------  ----- \n",
      " 0   ISO3                       90 non-null     object\n",
      " 1   Countries and areas        90 non-null     object\n",
      " 2   Region                     90 non-null     object\n",
      " 3   Sub-region                 90 non-null     object\n",
      " 4   Income Group               90 non-null     object\n",
      " 5   Total                      90 non-null     object\n",
      " 6   Residence (Rural)          85 non-null     object\n",
      " 7   Residence (Urban)          86 non-null     object\n",
      " 8   Wealth quintile (Poorest)  83 non-null     object\n",
      " 9   Wealth quintile (Richest)  83 non-null     object\n",
      " 10  Time period                90 non-null     object\n",
      "dtypes: object(11)\n",
      "memory usage: 7.9+ KB\n"
     ]
    }
   ],
   "source": [
    "# get data types\n",
    "df.info()"
   ]
  },
  {
   "cell_type": "code",
   "execution_count": 296,
   "metadata": {
    "scrolled": true
   },
   "outputs": [
    {
     "name": "stdout",
     "output_type": "stream",
     "text": [
      "   ISO3 Countries and areas Region Sub-region              Income Group Total  \\\n",
      "30  GTM           Guatemala    LAC        LAC  Upper middle income (UM)   10%   \n",
      "75  TGO                Togo    SSA        WCA            Low income (L)   24%   \n",
      "76  TGO                Togo    SSA        WCA            Low income (L)   24%   \n",
      "\n",
      "   Residence (Rural) Residence (Urban) Wealth quintile (Poorest)  \\\n",
      "30                3%               20%                        0%   \n",
      "75                8%               49%                        0%   \n",
      "76                8%               49%                        0%   \n",
      "\n",
      "   Wealth quintile (Richest) Time period  \n",
      "30                       49%   2014-2015  \n",
      "75                       78%        2017  \n",
      "76                       78%        2017  \n"
     ]
    }
   ],
   "source": [
    "#find duplicate rows\n",
    "print(df[df.duplicated()])"
   ]
  },
  {
   "cell_type": "code",
   "execution_count": 297,
   "metadata": {},
   "outputs": [
    {
     "name": "stdout",
     "output_type": "stream",
     "text": [
      "Empty DataFrame\n",
      "Columns: [ISO3, Countries and areas, Region, Sub-region, Income Group, Total, Residence (Rural), Residence (Urban), Wealth quintile (Poorest), Wealth quintile (Richest), Time period]\n",
      "Index: []\n"
     ]
    }
   ],
   "source": [
    "#drop duplicates\n",
    "df.drop_duplicates(inplace=True)\n",
    "print(df[df.duplicated()])"
   ]
  },
  {
   "cell_type": "code",
   "execution_count": 298,
   "metadata": {},
   "outputs": [],
   "source": [
    "# convert percentage strings to float\n",
    "df.iloc[:, 5:10] = df.iloc[:, 5:10].apply(lambda x: x.str.replace('%', '') if x.dtype == \"object\" else x)\n",
    "df.iloc[:, 5:10] = df.iloc[:, 5:10].astype(float)    "
   ]
  },
  {
   "cell_type": "code",
   "execution_count": 299,
   "metadata": {},
   "outputs": [
    {
     "data": {
      "text/plain": [
       "Income Group\n",
       "Upper middle income (UM)     32\n",
       "Lower middle income (LM)     28\n",
       "Low income (L)               18\n",
       "High income (H)               7\n",
       "Lower middle income (LLM)     1\n",
       "Lower middle income (LMM)     1\n",
       "Name: count, dtype: int64"
      ]
     },
     "execution_count": 299,
     "metadata": {},
     "output_type": "execute_result"
    }
   ],
   "source": [
    "# finding structural error\n",
    "df[\"Income Group\"].value_counts()"
   ]
  },
  {
   "cell_type": "code",
   "execution_count": 300,
   "metadata": {},
   "outputs": [
    {
     "data": {
      "text/plain": [
       "Income Group\n",
       "Upper middle income (UM)    32\n",
       "Lower middle income (LM)    30\n",
       "Low income (L)              18\n",
       "High income (H)              7\n",
       "Name: count, dtype: int64"
      ]
     },
     "execution_count": 300,
     "metadata": {},
     "output_type": "execute_result"
    }
   ],
   "source": [
    "# replace with correct category\n",
    "df[\"Income Group\"] = df[\"Income Group\"].replace({\n",
    "    \"Lower middle income (LLM)\": \"Lower middle income (LM)\",\n",
    "    \"Lower middle income (LMM)\": \"Lower middle income (LM)\"\n",
    "})\n",
    "df[\"Income Group\"].value_counts()"
   ]
  },
  {
   "cell_type": "code",
   "execution_count": 301,
   "metadata": {},
   "outputs": [
    {
     "data": {
      "text/plain": [
       "Time period\n",
       "2018         16\n",
       "2018-2019     9\n",
       "2019          9\n",
       "2017          8\n",
       "2013          6\n",
       "2012          5\n",
       "2017-2018     5\n",
       "2015          4\n",
       "2015-2016     4\n",
       "2014-2015     3\n",
       "2010          3\n",
       "2014          3\n",
       "2016          3\n",
       "2011-2012     3\n",
       "2016-2017     2\n",
       "2076          1\n",
       "3562          1\n",
       "2011          1\n",
       "2012-2099     1\n",
       "Name: count, dtype: int64"
      ]
     },
     "execution_count": 301,
     "metadata": {},
     "output_type": "execute_result"
    }
   ],
   "source": [
    "# finding structural error\n",
    "df[\"Time period\"].value_counts()"
   ]
  },
  {
   "cell_type": "code",
   "execution_count": 302,
   "metadata": {},
   "outputs": [
    {
     "data": {
      "text/plain": [
       "Time period\n",
       "2018         16\n",
       "2018-2019     9\n",
       "2019          9\n",
       "2017          8\n",
       "2013          6\n",
       "2017-2018     5\n",
       "2012          5\n",
       "2015-2016     4\n",
       "2015          4\n",
       "2016          3\n",
       "2010          3\n",
       "2014          3\n",
       "2011-2012     3\n",
       "2014-2015     3\n",
       "2016-2017     2\n",
       "2076          1\n",
       "2011          1\n",
       "Name: count, dtype: int64"
      ]
     },
     "execution_count": 302,
     "metadata": {},
     "output_type": "execute_result"
    }
   ],
   "source": [
    "# remove impossible time periods\n",
    "df = df[(df[\"Time period\"] != '3562') & (df[\"Time period\"] != '2012-2099')]\n",
    "df[\"Time period\"].value_counts()"
   ]
  },
  {
   "cell_type": "code",
   "execution_count": 303,
   "metadata": {},
   "outputs": [],
   "source": [
    "# remove impossible percentages\n",
    "df = df.drop(df[(df[\"Total\"] < 0) | (df[\"Total\"] > 100)].index)\n",
    "df = df.drop(df[(df[\"Residence (Rural)\"] < 0) | (df[\"Residence (Rural)\"] > 100)].index)\n",
    "df = df.drop(df[(df[\"Wealth quintile (Poorest)\"] < 0) | (df[\"Wealth quintile (Poorest)\"] > 100)].index)\n",
    "df = df.drop(df[(df[\"Wealth quintile (Richest)\"] < 0) | (df[\"Wealth quintile (Richest)\"] > 100)].index)"
   ]
  },
  {
   "cell_type": "code",
   "execution_count": 304,
   "metadata": {},
   "outputs": [
    {
     "data": {
      "text/plain": [
       "ISO3                         0\n",
       "Countries and areas          0\n",
       "Region                       0\n",
       "Sub-region                   0\n",
       "Income Group                 0\n",
       "Total                        0\n",
       "Residence (Rural)            5\n",
       "Residence (Urban)            4\n",
       "Wealth quintile (Poorest)    7\n",
       "Wealth quintile (Richest)    7\n",
       "Time period                  0\n",
       "dtype: int64"
      ]
     },
     "execution_count": 304,
     "metadata": {},
     "output_type": "execute_result"
    }
   ],
   "source": [
    "# columns with NaN values\n",
    "df.isnull().sum()"
   ]
  },
  {
   "cell_type": "code",
   "execution_count": 305,
   "metadata": {},
   "outputs": [
    {
     "name": "stdout",
     "output_type": "stream",
     "text": [
      "Residence (Rural)            1.021188\n",
      "Residence (Urban)            0.302502\n",
      "Wealth quintile (Poorest)    1.620091\n",
      "Wealth quintile (Richest)   -0.455263\n",
      "dtype: object\n"
     ]
    }
   ],
   "source": [
    "# get skewness values\n",
    "print(df[[\"Residence (Rural)\", \"Residence (Urban)\", \"Wealth quintile (Poorest)\", \"Wealth quintile (Richest)\"]].skew())"
   ]
  },
  {
   "cell_type": "code",
   "execution_count": 306,
   "metadata": {
    "editable": true,
    "slideshow": {
     "slide_type": ""
    },
    "tags": []
   },
   "outputs": [],
   "source": [
    "# get the mean values of each income group for columns with NaN values\n",
    "income_group_means = df.groupby(\"Income Group\")[[\"Residence (Rural)\", \"Residence (Urban)\", \"Wealth quintile (Richest)\"]].transform('mean')\n",
    "# median for Wealth quintile (Poorest) since skew is >1.5\n",
    "income_group_medians = df.groupby(\"Income Group\")[[\"Wealth quintile (Poorest)\"]].transform('median')"
   ]
  },
  {
   "cell_type": "code",
   "execution_count": 307,
   "metadata": {},
   "outputs": [
    {
     "data": {
      "text/html": [
       "<div>\n",
       "<style scoped>\n",
       "    .dataframe tbody tr th:only-of-type {\n",
       "        vertical-align: middle;\n",
       "    }\n",
       "\n",
       "    .dataframe tbody tr th {\n",
       "        vertical-align: top;\n",
       "    }\n",
       "\n",
       "    .dataframe thead th {\n",
       "        text-align: right;\n",
       "    }\n",
       "</style>\n",
       "<table border=\"1\" class=\"dataframe\">\n",
       "  <thead>\n",
       "    <tr style=\"text-align: right;\">\n",
       "      <th></th>\n",
       "      <th>Residence (Rural)</th>\n",
       "      <th>Residence (Urban)</th>\n",
       "      <th>Wealth quintile (Richest)</th>\n",
       "    </tr>\n",
       "  </thead>\n",
       "  <tbody>\n",
       "    <tr>\n",
       "      <th>0</th>\n",
       "      <td>42.392857</td>\n",
       "      <td>61.928571</td>\n",
       "      <td>82.888889</td>\n",
       "    </tr>\n",
       "    <tr>\n",
       "      <th>1</th>\n",
       "      <td>11.862069</td>\n",
       "      <td>30.0</td>\n",
       "      <td>47.464286</td>\n",
       "    </tr>\n",
       "    <tr>\n",
       "      <th>2</th>\n",
       "      <td>42.392857</td>\n",
       "      <td>61.928571</td>\n",
       "      <td>82.888889</td>\n",
       "    </tr>\n",
       "    <tr>\n",
       "      <th>3</th>\n",
       "      <td>42.392857</td>\n",
       "      <td>61.928571</td>\n",
       "      <td>82.888889</td>\n",
       "    </tr>\n",
       "    <tr>\n",
       "      <th>4</th>\n",
       "      <td>11.862069</td>\n",
       "      <td>30.0</td>\n",
       "      <td>47.464286</td>\n",
       "    </tr>\n",
       "  </tbody>\n",
       "</table>\n",
       "</div>"
      ],
      "text/plain": [
       "  Residence (Rural) Residence (Urban) Wealth quintile (Richest)\n",
       "0         42.392857         61.928571                 82.888889\n",
       "1         11.862069              30.0                 47.464286\n",
       "2         42.392857         61.928571                 82.888889\n",
       "3         42.392857         61.928571                 82.888889\n",
       "4         11.862069              30.0                 47.464286"
      ]
     },
     "execution_count": 307,
     "metadata": {},
     "output_type": "execute_result"
    }
   ],
   "source": [
    "income_group_means.head()"
   ]
  },
  {
   "cell_type": "code",
   "execution_count": 308,
   "metadata": {},
   "outputs": [
    {
     "data": {
      "text/html": [
       "<div>\n",
       "<style scoped>\n",
       "    .dataframe tbody tr th:only-of-type {\n",
       "        vertical-align: middle;\n",
       "    }\n",
       "\n",
       "    .dataframe tbody tr th {\n",
       "        vertical-align: top;\n",
       "    }\n",
       "\n",
       "    .dataframe thead th {\n",
       "        text-align: right;\n",
       "    }\n",
       "</style>\n",
       "<table border=\"1\" class=\"dataframe\">\n",
       "  <thead>\n",
       "    <tr style=\"text-align: right;\">\n",
       "      <th></th>\n",
       "      <th>Wealth quintile (Poorest)</th>\n",
       "    </tr>\n",
       "  </thead>\n",
       "  <tbody>\n",
       "    <tr>\n",
       "      <th>0</th>\n",
       "      <td>21.0</td>\n",
       "    </tr>\n",
       "    <tr>\n",
       "      <th>1</th>\n",
       "      <td>1.5</td>\n",
       "    </tr>\n",
       "    <tr>\n",
       "      <th>2</th>\n",
       "      <td>21.0</td>\n",
       "    </tr>\n",
       "    <tr>\n",
       "      <th>3</th>\n",
       "      <td>21.0</td>\n",
       "    </tr>\n",
       "    <tr>\n",
       "      <th>4</th>\n",
       "      <td>1.5</td>\n",
       "    </tr>\n",
       "  </tbody>\n",
       "</table>\n",
       "</div>"
      ],
      "text/plain": [
       "  Wealth quintile (Poorest)\n",
       "0                      21.0\n",
       "1                       1.5\n",
       "2                      21.0\n",
       "3                      21.0\n",
       "4                       1.5"
      ]
     },
     "execution_count": 308,
     "metadata": {},
     "output_type": "execute_result"
    }
   ],
   "source": [
    "income_group_medians.head()"
   ]
  },
  {
   "cell_type": "code",
   "execution_count": 309,
   "metadata": {},
   "outputs": [],
   "source": [
    "# replace Nan values with means/medians of that income group for the column\n",
    "df[\"Residence (Rural)\"] = df[\"Residence (Rural)\"].fillna(income_group_means[\"Residence (Rural)\"])\n",
    "df[\"Residence (Urban)\"] = df[\"Residence (Urban)\"].fillna(income_group_means[\"Residence (Urban)\"])\n",
    "df[\"Wealth quintile (Richest)\"] = df[\"Wealth quintile (Richest)\"].fillna(income_group_means[\"Wealth quintile (Richest)\"])\n",
    "df[\"Wealth quintile (Poorest)\"] = df[\"Wealth quintile (Poorest)\"].fillna(income_group_medians[\"Wealth quintile (Poorest)\"])"
   ]
  },
  {
   "cell_type": "code",
   "execution_count": 310,
   "metadata": {},
   "outputs": [
    {
     "data": {
      "text/plain": [
       "ISO3                         0\n",
       "Countries and areas          0\n",
       "Region                       0\n",
       "Sub-region                   0\n",
       "Income Group                 0\n",
       "Total                        0\n",
       "Residence (Rural)            0\n",
       "Residence (Urban)            0\n",
       "Wealth quintile (Poorest)    0\n",
       "Wealth quintile (Richest)    0\n",
       "Time period                  0\n",
       "dtype: int64"
      ]
     },
     "execution_count": 310,
     "metadata": {},
     "output_type": "execute_result"
    }
   ],
   "source": [
    "df.isnull().sum()"
   ]
  },
  {
   "cell_type": "code",
   "execution_count": 311,
   "metadata": {},
   "outputs": [],
   "source": [
    "#remove whitespace in countries and convert to title string\n",
    "df[\"Countries and areas\"] = df[\"Countries and areas\"].apply(lambda x: x.replace(\" \", \"\"))\n",
    "df[\"Countries and areas\"] = df[\"Countries and areas\"].str.title()"
   ]
  },
  {
   "cell_type": "code",
   "execution_count": 315,
   "metadata": {},
   "outputs": [
    {
     "name": "stdout",
     "output_type": "stream",
     "text": [
      "<class 'pandas.core.frame.DataFrame'>\n",
      "Index: 84 entries, 0 to 89\n",
      "Data columns (total 11 columns):\n",
      " #   Column                     Non-Null Count  Dtype \n",
      "---  ------                     --------------  ----- \n",
      " 0   ISO3                       84 non-null     object\n",
      " 1   Countries and areas        84 non-null     object\n",
      " 2   Region                     84 non-null     object\n",
      " 3   Sub-region                 84 non-null     object\n",
      " 4   Income Group               84 non-null     object\n",
      " 5   Total                      84 non-null     object\n",
      " 6   Residence (Rural)          84 non-null     object\n",
      " 7   Residence (Urban)          84 non-null     object\n",
      " 8   Wealth quintile (Poorest)  84 non-null     object\n",
      " 9   Wealth quintile (Richest)  84 non-null     object\n",
      " 10  Time period                84 non-null     object\n",
      "dtypes: object(11)\n",
      "memory usage: 7.9+ KB\n"
     ]
    },
    {
     "data": {
      "text/html": [
       "<div>\n",
       "<style scoped>\n",
       "    .dataframe tbody tr th:only-of-type {\n",
       "        vertical-align: middle;\n",
       "    }\n",
       "\n",
       "    .dataframe tbody tr th {\n",
       "        vertical-align: top;\n",
       "    }\n",
       "\n",
       "    .dataframe thead th {\n",
       "        text-align: right;\n",
       "    }\n",
       "</style>\n",
       "<table border=\"1\" class=\"dataframe\">\n",
       "  <thead>\n",
       "    <tr style=\"text-align: right;\">\n",
       "      <th></th>\n",
       "      <th>ISO3</th>\n",
       "      <th>Countries and areas</th>\n",
       "      <th>Region</th>\n",
       "      <th>Sub-region</th>\n",
       "      <th>Income Group</th>\n",
       "      <th>Total</th>\n",
       "      <th>Residence (Rural)</th>\n",
       "      <th>Residence (Urban)</th>\n",
       "      <th>Wealth quintile (Poorest)</th>\n",
       "      <th>Wealth quintile (Richest)</th>\n",
       "      <th>Time period</th>\n",
       "    </tr>\n",
       "  </thead>\n",
       "  <tbody>\n",
       "    <tr>\n",
       "      <th>count</th>\n",
       "      <td>84</td>\n",
       "      <td>84</td>\n",
       "      <td>84</td>\n",
       "      <td>84</td>\n",
       "      <td>84</td>\n",
       "      <td>84.0</td>\n",
       "      <td>84.0</td>\n",
       "      <td>84.0</td>\n",
       "      <td>84.0</td>\n",
       "      <td>84.0</td>\n",
       "      <td>84</td>\n",
       "    </tr>\n",
       "    <tr>\n",
       "      <th>unique</th>\n",
       "      <td>84</td>\n",
       "      <td>84</td>\n",
       "      <td>6</td>\n",
       "      <td>8</td>\n",
       "      <td>4</td>\n",
       "      <td>51.0</td>\n",
       "      <td>45.0</td>\n",
       "      <td>56.0</td>\n",
       "      <td>36.0</td>\n",
       "      <td>55.0</td>\n",
       "      <td>17</td>\n",
       "    </tr>\n",
       "    <tr>\n",
       "      <th>top</th>\n",
       "      <td>DZA</td>\n",
       "      <td>Algeria</td>\n",
       "      <td>SSA</td>\n",
       "      <td>LAC</td>\n",
       "      <td>Upper middle income (UM)</td>\n",
       "      <td>4.0</td>\n",
       "      <td>1.0</td>\n",
       "      <td>50.0</td>\n",
       "      <td>0.0</td>\n",
       "      <td>99.0</td>\n",
       "      <td>2018</td>\n",
       "    </tr>\n",
       "    <tr>\n",
       "      <th>freq</th>\n",
       "      <td>1</td>\n",
       "      <td>1</td>\n",
       "      <td>31</td>\n",
       "      <td>19</td>\n",
       "      <td>30</td>\n",
       "      <td>5.0</td>\n",
       "      <td>11.0</td>\n",
       "      <td>3.0</td>\n",
       "      <td>27.0</td>\n",
       "      <td>6.0</td>\n",
       "      <td>15</td>\n",
       "    </tr>\n",
       "  </tbody>\n",
       "</table>\n",
       "</div>"
      ],
      "text/plain": [
       "       ISO3 Countries and areas Region Sub-region              Income Group  \\\n",
       "count    84                  84     84         84                        84   \n",
       "unique   84                  84      6          8                         4   \n",
       "top     DZA             Algeria    SSA        LAC  Upper middle income (UM)   \n",
       "freq      1                   1     31         19                        30   \n",
       "\n",
       "        Total  Residence (Rural)  Residence (Urban)  \\\n",
       "count    84.0               84.0               84.0   \n",
       "unique   51.0               45.0               56.0   \n",
       "top       4.0                1.0               50.0   \n",
       "freq      5.0               11.0                3.0   \n",
       "\n",
       "        Wealth quintile (Poorest)  Wealth quintile (Richest) Time period  \n",
       "count                        84.0                       84.0          84  \n",
       "unique                       36.0                       55.0          17  \n",
       "top                           0.0                       99.0        2018  \n",
       "freq                         27.0                        6.0          15  "
      ]
     },
     "execution_count": 315,
     "metadata": {},
     "output_type": "execute_result"
    }
   ],
   "source": [
    "df.info()\n",
    "df.describe()"
   ]
  },
  {
   "cell_type": "code",
   "execution_count": 316,
   "metadata": {},
   "outputs": [],
   "source": [
    "#write to csv\n",
    "df.to_csv(\"S3902159-cleaned-A1data.csv\")"
   ]
  },
  {
   "cell_type": "markdown",
   "metadata": {
    "id": "r-i5aIqXpPbu"
   },
   "source": [
    "# Task 2: Data Exploration"
   ]
  },
  {
   "cell_type": "code",
   "execution_count": null,
   "metadata": {},
   "outputs": [],
   "source": []
  },
  {
   "cell_type": "markdown",
   "metadata": {
    "id": "QOY4K_neos9j"
   },
   "source": [
    "## Task 2.1 "
   ]
  },
  {
   "cell_type": "code",
   "execution_count": null,
   "metadata": {
    "id": "ziwtOfWJn-Eh"
   },
   "outputs": [],
   "source": [
    "# Code goes after this line by adding cells\n"
   ]
  },
  {
   "cell_type": "markdown",
   "metadata": {
    "id": "0-HLFaWTo7Gr"
   },
   "source": [
    "## Task 2.2 "
   ]
  },
  {
   "cell_type": "code",
   "execution_count": null,
   "metadata": {
    "id": "k3-8Pbi1n-Ei"
   },
   "outputs": [],
   "source": [
    "# Code goes after this line by adding cells\n"
   ]
  },
  {
   "cell_type": "markdown",
   "metadata": {
    "id": "jnasiwOAo_RP"
   },
   "source": [
    "## Task 2.3 "
   ]
  },
  {
   "cell_type": "code",
   "execution_count": null,
   "metadata": {
    "id": "hHsmCb2gn-Ei"
   },
   "outputs": [],
   "source": [
    "# Code goes after this line by adding cells\n"
   ]
  }
 ],
 "metadata": {
  "colab": {
   "collapsed_sections": [],
   "name": "assignment1_TEMPLATE.ipynb",
   "provenance": [],
   "toc_visible": true
  },
  "kernelspec": {
   "display_name": "Python 3 (ipykernel)",
   "language": "python",
   "name": "python3"
  },
  "language_info": {
   "codemirror_mode": {
    "name": "ipython",
    "version": 3
   },
   "file_extension": ".py",
   "mimetype": "text/x-python",
   "name": "python",
   "nbconvert_exporter": "python",
   "pygments_lexer": "ipython3",
   "version": "3.11.4"
  }
 },
 "nbformat": 4,
 "nbformat_minor": 4
}
